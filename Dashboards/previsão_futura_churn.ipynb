{
 "cells": [
  {
   "cell_type": "markdown",
   "id": "c2e1059d",
   "metadata": {},
   "source": [
    "## Preparando os dos Dados para Previsão Futura"
   ]
  },
  {
   "cell_type": "code",
   "execution_count": null,
   "id": "b35013c0",
   "metadata": {},
   "outputs": [
    {
     "data": {
      "text/html": [
       "<style>#sk-container-id-2 {\n",
       "  /* Definition of color scheme common for light and dark mode */\n",
       "  --sklearn-color-text: #000;\n",
       "  --sklearn-color-text-muted: #666;\n",
       "  --sklearn-color-line: gray;\n",
       "  /* Definition of color scheme for unfitted estimators */\n",
       "  --sklearn-color-unfitted-level-0: #fff5e6;\n",
       "  --sklearn-color-unfitted-level-1: #f6e4d2;\n",
       "  --sklearn-color-unfitted-level-2: #ffe0b3;\n",
       "  --sklearn-color-unfitted-level-3: chocolate;\n",
       "  /* Definition of color scheme for fitted estimators */\n",
       "  --sklearn-color-fitted-level-0: #f0f8ff;\n",
       "  --sklearn-color-fitted-level-1: #d4ebff;\n",
       "  --sklearn-color-fitted-level-2: #b3dbfd;\n",
       "  --sklearn-color-fitted-level-3: cornflowerblue;\n",
       "\n",
       "  /* Specific color for light theme */\n",
       "  --sklearn-color-text-on-default-background: var(--sg-text-color, var(--theme-code-foreground, var(--jp-content-font-color1, black)));\n",
       "  --sklearn-color-background: var(--sg-background-color, var(--theme-background, var(--jp-layout-color0, white)));\n",
       "  --sklearn-color-border-box: var(--sg-text-color, var(--theme-code-foreground, var(--jp-content-font-color1, black)));\n",
       "  --sklearn-color-icon: #696969;\n",
       "\n",
       "  @media (prefers-color-scheme: dark) {\n",
       "    /* Redefinition of color scheme for dark theme */\n",
       "    --sklearn-color-text-on-default-background: var(--sg-text-color, var(--theme-code-foreground, var(--jp-content-font-color1, white)));\n",
       "    --sklearn-color-background: var(--sg-background-color, var(--theme-background, var(--jp-layout-color0, #111)));\n",
       "    --sklearn-color-border-box: var(--sg-text-color, var(--theme-code-foreground, var(--jp-content-font-color1, white)));\n",
       "    --sklearn-color-icon: #878787;\n",
       "  }\n",
       "}\n",
       "\n",
       "#sk-container-id-2 {\n",
       "  color: var(--sklearn-color-text);\n",
       "}\n",
       "\n",
       "#sk-container-id-2 pre {\n",
       "  padding: 0;\n",
       "}\n",
       "\n",
       "#sk-container-id-2 input.sk-hidden--visually {\n",
       "  border: 0;\n",
       "  clip: rect(1px 1px 1px 1px);\n",
       "  clip: rect(1px, 1px, 1px, 1px);\n",
       "  height: 1px;\n",
       "  margin: -1px;\n",
       "  overflow: hidden;\n",
       "  padding: 0;\n",
       "  position: absolute;\n",
       "  width: 1px;\n",
       "}\n",
       "\n",
       "#sk-container-id-2 div.sk-dashed-wrapped {\n",
       "  border: 1px dashed var(--sklearn-color-line);\n",
       "  margin: 0 0.4em 0.5em 0.4em;\n",
       "  box-sizing: border-box;\n",
       "  padding-bottom: 0.4em;\n",
       "  background-color: var(--sklearn-color-background);\n",
       "}\n",
       "\n",
       "#sk-container-id-2 div.sk-container {\n",
       "  /* jupyter's `normalize.less` sets `[hidden] { display: none; }`\n",
       "     but bootstrap.min.css set `[hidden] { display: none !important; }`\n",
       "     so we also need the `!important` here to be able to override the\n",
       "     default hidden behavior on the sphinx rendered scikit-learn.org.\n",
       "     See: https://github.com/scikit-learn/scikit-learn/issues/21755 */\n",
       "  display: inline-block !important;\n",
       "  position: relative;\n",
       "}\n",
       "\n",
       "#sk-container-id-2 div.sk-text-repr-fallback {\n",
       "  display: none;\n",
       "}\n",
       "\n",
       "div.sk-parallel-item,\n",
       "div.sk-serial,\n",
       "div.sk-item {\n",
       "  /* draw centered vertical line to link estimators */\n",
       "  background-image: linear-gradient(var(--sklearn-color-text-on-default-background), var(--sklearn-color-text-on-default-background));\n",
       "  background-size: 2px 100%;\n",
       "  background-repeat: no-repeat;\n",
       "  background-position: center center;\n",
       "}\n",
       "\n",
       "/* Parallel-specific style estimator block */\n",
       "\n",
       "#sk-container-id-2 div.sk-parallel-item::after {\n",
       "  content: \"\";\n",
       "  width: 100%;\n",
       "  border-bottom: 2px solid var(--sklearn-color-text-on-default-background);\n",
       "  flex-grow: 1;\n",
       "}\n",
       "\n",
       "#sk-container-id-2 div.sk-parallel {\n",
       "  display: flex;\n",
       "  align-items: stretch;\n",
       "  justify-content: center;\n",
       "  background-color: var(--sklearn-color-background);\n",
       "  position: relative;\n",
       "}\n",
       "\n",
       "#sk-container-id-2 div.sk-parallel-item {\n",
       "  display: flex;\n",
       "  flex-direction: column;\n",
       "}\n",
       "\n",
       "#sk-container-id-2 div.sk-parallel-item:first-child::after {\n",
       "  align-self: flex-end;\n",
       "  width: 50%;\n",
       "}\n",
       "\n",
       "#sk-container-id-2 div.sk-parallel-item:last-child::after {\n",
       "  align-self: flex-start;\n",
       "  width: 50%;\n",
       "}\n",
       "\n",
       "#sk-container-id-2 div.sk-parallel-item:only-child::after {\n",
       "  width: 0;\n",
       "}\n",
       "\n",
       "/* Serial-specific style estimator block */\n",
       "\n",
       "#sk-container-id-2 div.sk-serial {\n",
       "  display: flex;\n",
       "  flex-direction: column;\n",
       "  align-items: center;\n",
       "  background-color: var(--sklearn-color-background);\n",
       "  padding-right: 1em;\n",
       "  padding-left: 1em;\n",
       "}\n",
       "\n",
       "\n",
       "/* Toggleable style: style used for estimator/Pipeline/ColumnTransformer box that is\n",
       "clickable and can be expanded/collapsed.\n",
       "- Pipeline and ColumnTransformer use this feature and define the default style\n",
       "- Estimators will overwrite some part of the style using the `sk-estimator` class\n",
       "*/\n",
       "\n",
       "/* Pipeline and ColumnTransformer style (default) */\n",
       "\n",
       "#sk-container-id-2 div.sk-toggleable {\n",
       "  /* Default theme specific background. It is overwritten whether we have a\n",
       "  specific estimator or a Pipeline/ColumnTransformer */\n",
       "  background-color: var(--sklearn-color-background);\n",
       "}\n",
       "\n",
       "/* Toggleable label */\n",
       "#sk-container-id-2 label.sk-toggleable__label {\n",
       "  cursor: pointer;\n",
       "  display: flex;\n",
       "  width: 100%;\n",
       "  margin-bottom: 0;\n",
       "  padding: 0.5em;\n",
       "  box-sizing: border-box;\n",
       "  text-align: center;\n",
       "  align-items: start;\n",
       "  justify-content: space-between;\n",
       "  gap: 0.5em;\n",
       "}\n",
       "\n",
       "#sk-container-id-2 label.sk-toggleable__label .caption {\n",
       "  font-size: 0.6rem;\n",
       "  font-weight: lighter;\n",
       "  color: var(--sklearn-color-text-muted);\n",
       "}\n",
       "\n",
       "#sk-container-id-2 label.sk-toggleable__label-arrow:before {\n",
       "  /* Arrow on the left of the label */\n",
       "  content: \"▸\";\n",
       "  float: left;\n",
       "  margin-right: 0.25em;\n",
       "  color: var(--sklearn-color-icon);\n",
       "}\n",
       "\n",
       "#sk-container-id-2 label.sk-toggleable__label-arrow:hover:before {\n",
       "  color: var(--sklearn-color-text);\n",
       "}\n",
       "\n",
       "/* Toggleable content - dropdown */\n",
       "\n",
       "#sk-container-id-2 div.sk-toggleable__content {\n",
       "  max-height: 0;\n",
       "  max-width: 0;\n",
       "  overflow: hidden;\n",
       "  text-align: left;\n",
       "  /* unfitted */\n",
       "  background-color: var(--sklearn-color-unfitted-level-0);\n",
       "}\n",
       "\n",
       "#sk-container-id-2 div.sk-toggleable__content.fitted {\n",
       "  /* fitted */\n",
       "  background-color: var(--sklearn-color-fitted-level-0);\n",
       "}\n",
       "\n",
       "#sk-container-id-2 div.sk-toggleable__content pre {\n",
       "  margin: 0.2em;\n",
       "  border-radius: 0.25em;\n",
       "  color: var(--sklearn-color-text);\n",
       "  /* unfitted */\n",
       "  background-color: var(--sklearn-color-unfitted-level-0);\n",
       "}\n",
       "\n",
       "#sk-container-id-2 div.sk-toggleable__content.fitted pre {\n",
       "  /* unfitted */\n",
       "  background-color: var(--sklearn-color-fitted-level-0);\n",
       "}\n",
       "\n",
       "#sk-container-id-2 input.sk-toggleable__control:checked~div.sk-toggleable__content {\n",
       "  /* Expand drop-down */\n",
       "  max-height: 200px;\n",
       "  max-width: 100%;\n",
       "  overflow: auto;\n",
       "}\n",
       "\n",
       "#sk-container-id-2 input.sk-toggleable__control:checked~label.sk-toggleable__label-arrow:before {\n",
       "  content: \"▾\";\n",
       "}\n",
       "\n",
       "/* Pipeline/ColumnTransformer-specific style */\n",
       "\n",
       "#sk-container-id-2 div.sk-label input.sk-toggleable__control:checked~label.sk-toggleable__label {\n",
       "  color: var(--sklearn-color-text);\n",
       "  background-color: var(--sklearn-color-unfitted-level-2);\n",
       "}\n",
       "\n",
       "#sk-container-id-2 div.sk-label.fitted input.sk-toggleable__control:checked~label.sk-toggleable__label {\n",
       "  background-color: var(--sklearn-color-fitted-level-2);\n",
       "}\n",
       "\n",
       "/* Estimator-specific style */\n",
       "\n",
       "/* Colorize estimator box */\n",
       "#sk-container-id-2 div.sk-estimator input.sk-toggleable__control:checked~label.sk-toggleable__label {\n",
       "  /* unfitted */\n",
       "  background-color: var(--sklearn-color-unfitted-level-2);\n",
       "}\n",
       "\n",
       "#sk-container-id-2 div.sk-estimator.fitted input.sk-toggleable__control:checked~label.sk-toggleable__label {\n",
       "  /* fitted */\n",
       "  background-color: var(--sklearn-color-fitted-level-2);\n",
       "}\n",
       "\n",
       "#sk-container-id-2 div.sk-label label.sk-toggleable__label,\n",
       "#sk-container-id-2 div.sk-label label {\n",
       "  /* The background is the default theme color */\n",
       "  color: var(--sklearn-color-text-on-default-background);\n",
       "}\n",
       "\n",
       "/* On hover, darken the color of the background */\n",
       "#sk-container-id-2 div.sk-label:hover label.sk-toggleable__label {\n",
       "  color: var(--sklearn-color-text);\n",
       "  background-color: var(--sklearn-color-unfitted-level-2);\n",
       "}\n",
       "\n",
       "/* Label box, darken color on hover, fitted */\n",
       "#sk-container-id-2 div.sk-label.fitted:hover label.sk-toggleable__label.fitted {\n",
       "  color: var(--sklearn-color-text);\n",
       "  background-color: var(--sklearn-color-fitted-level-2);\n",
       "}\n",
       "\n",
       "/* Estimator label */\n",
       "\n",
       "#sk-container-id-2 div.sk-label label {\n",
       "  font-family: monospace;\n",
       "  font-weight: bold;\n",
       "  display: inline-block;\n",
       "  line-height: 1.2em;\n",
       "}\n",
       "\n",
       "#sk-container-id-2 div.sk-label-container {\n",
       "  text-align: center;\n",
       "}\n",
       "\n",
       "/* Estimator-specific */\n",
       "#sk-container-id-2 div.sk-estimator {\n",
       "  font-family: monospace;\n",
       "  border: 1px dotted var(--sklearn-color-border-box);\n",
       "  border-radius: 0.25em;\n",
       "  box-sizing: border-box;\n",
       "  margin-bottom: 0.5em;\n",
       "  /* unfitted */\n",
       "  background-color: var(--sklearn-color-unfitted-level-0);\n",
       "}\n",
       "\n",
       "#sk-container-id-2 div.sk-estimator.fitted {\n",
       "  /* fitted */\n",
       "  background-color: var(--sklearn-color-fitted-level-0);\n",
       "}\n",
       "\n",
       "/* on hover */\n",
       "#sk-container-id-2 div.sk-estimator:hover {\n",
       "  /* unfitted */\n",
       "  background-color: var(--sklearn-color-unfitted-level-2);\n",
       "}\n",
       "\n",
       "#sk-container-id-2 div.sk-estimator.fitted:hover {\n",
       "  /* fitted */\n",
       "  background-color: var(--sklearn-color-fitted-level-2);\n",
       "}\n",
       "\n",
       "/* Specification for estimator info (e.g. \"i\" and \"?\") */\n",
       "\n",
       "/* Common style for \"i\" and \"?\" */\n",
       "\n",
       ".sk-estimator-doc-link,\n",
       "a:link.sk-estimator-doc-link,\n",
       "a:visited.sk-estimator-doc-link {\n",
       "  float: right;\n",
       "  font-size: smaller;\n",
       "  line-height: 1em;\n",
       "  font-family: monospace;\n",
       "  background-color: var(--sklearn-color-background);\n",
       "  border-radius: 1em;\n",
       "  height: 1em;\n",
       "  width: 1em;\n",
       "  text-decoration: none !important;\n",
       "  margin-left: 0.5em;\n",
       "  text-align: center;\n",
       "  /* unfitted */\n",
       "  border: var(--sklearn-color-unfitted-level-1) 1pt solid;\n",
       "  color: var(--sklearn-color-unfitted-level-1);\n",
       "}\n",
       "\n",
       ".sk-estimator-doc-link.fitted,\n",
       "a:link.sk-estimator-doc-link.fitted,\n",
       "a:visited.sk-estimator-doc-link.fitted {\n",
       "  /* fitted */\n",
       "  border: var(--sklearn-color-fitted-level-1) 1pt solid;\n",
       "  color: var(--sklearn-color-fitted-level-1);\n",
       "}\n",
       "\n",
       "/* On hover */\n",
       "div.sk-estimator:hover .sk-estimator-doc-link:hover,\n",
       ".sk-estimator-doc-link:hover,\n",
       "div.sk-label-container:hover .sk-estimator-doc-link:hover,\n",
       ".sk-estimator-doc-link:hover {\n",
       "  /* unfitted */\n",
       "  background-color: var(--sklearn-color-unfitted-level-3);\n",
       "  color: var(--sklearn-color-background);\n",
       "  text-decoration: none;\n",
       "}\n",
       "\n",
       "div.sk-estimator.fitted:hover .sk-estimator-doc-link.fitted:hover,\n",
       ".sk-estimator-doc-link.fitted:hover,\n",
       "div.sk-label-container:hover .sk-estimator-doc-link.fitted:hover,\n",
       ".sk-estimator-doc-link.fitted:hover {\n",
       "  /* fitted */\n",
       "  background-color: var(--sklearn-color-fitted-level-3);\n",
       "  color: var(--sklearn-color-background);\n",
       "  text-decoration: none;\n",
       "}\n",
       "\n",
       "/* Span, style for the box shown on hovering the info icon */\n",
       ".sk-estimator-doc-link span {\n",
       "  display: none;\n",
       "  z-index: 9999;\n",
       "  position: relative;\n",
       "  font-weight: normal;\n",
       "  right: .2ex;\n",
       "  padding: .5ex;\n",
       "  margin: .5ex;\n",
       "  width: min-content;\n",
       "  min-width: 20ex;\n",
       "  max-width: 50ex;\n",
       "  color: var(--sklearn-color-text);\n",
       "  box-shadow: 2pt 2pt 4pt #999;\n",
       "  /* unfitted */\n",
       "  background: var(--sklearn-color-unfitted-level-0);\n",
       "  border: .5pt solid var(--sklearn-color-unfitted-level-3);\n",
       "}\n",
       "\n",
       ".sk-estimator-doc-link.fitted span {\n",
       "  /* fitted */\n",
       "  background: var(--sklearn-color-fitted-level-0);\n",
       "  border: var(--sklearn-color-fitted-level-3);\n",
       "}\n",
       "\n",
       ".sk-estimator-doc-link:hover span {\n",
       "  display: block;\n",
       "}\n",
       "\n",
       "/* \"?\"-specific style due to the `<a>` HTML tag */\n",
       "\n",
       "#sk-container-id-2 a.estimator_doc_link {\n",
       "  float: right;\n",
       "  font-size: 1rem;\n",
       "  line-height: 1em;\n",
       "  font-family: monospace;\n",
       "  background-color: var(--sklearn-color-background);\n",
       "  border-radius: 1rem;\n",
       "  height: 1rem;\n",
       "  width: 1rem;\n",
       "  text-decoration: none;\n",
       "  /* unfitted */\n",
       "  color: var(--sklearn-color-unfitted-level-1);\n",
       "  border: var(--sklearn-color-unfitted-level-1) 1pt solid;\n",
       "}\n",
       "\n",
       "#sk-container-id-2 a.estimator_doc_link.fitted {\n",
       "  /* fitted */\n",
       "  border: var(--sklearn-color-fitted-level-1) 1pt solid;\n",
       "  color: var(--sklearn-color-fitted-level-1);\n",
       "}\n",
       "\n",
       "/* On hover */\n",
       "#sk-container-id-2 a.estimator_doc_link:hover {\n",
       "  /* unfitted */\n",
       "  background-color: var(--sklearn-color-unfitted-level-3);\n",
       "  color: var(--sklearn-color-background);\n",
       "  text-decoration: none;\n",
       "}\n",
       "\n",
       "#sk-container-id-2 a.estimator_doc_link.fitted:hover {\n",
       "  /* fitted */\n",
       "  background-color: var(--sklearn-color-fitted-level-3);\n",
       "}\n",
       "</style><div id=\"sk-container-id-2\" class=\"sk-top-container\"><div class=\"sk-text-repr-fallback\"><pre>XGBClassifier(base_score=None, booster=None, callbacks=None,\n",
       "              colsample_bylevel=None, colsample_bynode=None,\n",
       "              colsample_bytree=None, device=None, early_stopping_rounds=None,\n",
       "              enable_categorical=False, eval_metric=&#x27;logloss&#x27;,\n",
       "              feature_types=None, feature_weights=None, gamma=None,\n",
       "              grow_policy=None, importance_type=None,\n",
       "              interaction_constraints=None, learning_rate=None, max_bin=None,\n",
       "              max_cat_threshold=None, max_cat_to_onehot=None,\n",
       "              max_delta_step=None, max_depth=None, max_leaves=None,\n",
       "              min_child_weight=None, missing=nan, monotone_constraints=None,\n",
       "              multi_strategy=None, n_estimators=None, n_jobs=None,\n",
       "              num_parallel_tree=None, ...)</pre><b>In a Jupyter environment, please rerun this cell to show the HTML representation or trust the notebook. <br />On GitHub, the HTML representation is unable to render, please try loading this page with nbviewer.org.</b></div><div class=\"sk-container\" hidden><div class=\"sk-item\"><div class=\"sk-estimator fitted sk-toggleable\"><input class=\"sk-toggleable__control sk-hidden--visually\" id=\"sk-estimator-id-2\" type=\"checkbox\" checked><label for=\"sk-estimator-id-2\" class=\"sk-toggleable__label fitted sk-toggleable__label-arrow\"><div><div>XGBClassifier</div></div><div><a class=\"sk-estimator-doc-link fitted\" rel=\"noreferrer\" target=\"_blank\" href=\"https://xgboost.readthedocs.io/en/release_3.0.0/python/python_api.html#xgboost.XGBClassifier\">?<span>Documentation for XGBClassifier</span></a><span class=\"sk-estimator-doc-link fitted\">i<span>Fitted</span></span></div></label><div class=\"sk-toggleable__content fitted\"><pre>XGBClassifier(base_score=None, booster=None, callbacks=None,\n",
       "              colsample_bylevel=None, colsample_bynode=None,\n",
       "              colsample_bytree=None, device=None, early_stopping_rounds=None,\n",
       "              enable_categorical=False, eval_metric=&#x27;logloss&#x27;,\n",
       "              feature_types=None, feature_weights=None, gamma=None,\n",
       "              grow_policy=None, importance_type=None,\n",
       "              interaction_constraints=None, learning_rate=None, max_bin=None,\n",
       "              max_cat_threshold=None, max_cat_to_onehot=None,\n",
       "              max_delta_step=None, max_depth=None, max_leaves=None,\n",
       "              min_child_weight=None, missing=nan, monotone_constraints=None,\n",
       "              multi_strategy=None, n_estimators=None, n_jobs=None,\n",
       "              num_parallel_tree=None, ...)</pre></div> </div></div></div></div>"
      ],
      "text/plain": [
       "XGBClassifier(base_score=None, booster=None, callbacks=None,\n",
       "              colsample_bylevel=None, colsample_bynode=None,\n",
       "              colsample_bytree=None, device=None, early_stopping_rounds=None,\n",
       "              enable_categorical=False, eval_metric='logloss',\n",
       "              feature_types=None, feature_weights=None, gamma=None,\n",
       "              grow_policy=None, importance_type=None,\n",
       "              interaction_constraints=None, learning_rate=None, max_bin=None,\n",
       "              max_cat_threshold=None, max_cat_to_onehot=None,\n",
       "              max_delta_step=None, max_depth=None, max_leaves=None,\n",
       "              min_child_weight=None, missing=nan, monotone_constraints=None,\n",
       "              multi_strategy=None, n_estimators=None, n_jobs=None,\n",
       "              num_parallel_tree=None, ...)"
      ]
     },
     "execution_count": 3,
     "metadata": {},
     "output_type": "execute_result"
    }
   ],
   "source": [
    "import pandas as pd\n",
    "from sklearn.model_selection import train_test_split\n",
    "from xgboost import XGBClassifier\n",
    "import matplotlib.pyplot as plt\n",
    "import seaborn as sns\n",
    "import plotly.express as px\n",
    "import numpy as np\n",
    "import warnings\n",
    "warnings.filterwarnings('ignore')\n",
    "\n",
    "#Carregando os dados\n",
    "df = pd.read_csv('dados/WA_Fn-UseC_-Telco-Customer-Churn.csv')\n",
    "\n",
    "#Aplicando a Limpeza e transformações básicas nos dados\n",
    "df['TotalCharges'] = pd.to_numeric(df['TotalCharges'], errors='coerce')\n",
    "df['TotalCharges'] = df['TotalCharges'].fillna(0)\n",
    "df['SeniorCitizen'] = df['SeniorCitizen'].map({0: 'No', 1: 'Yes'})\n",
    "\n",
    "cols_to_replace = ['PhoneService', 'MultipleLines', 'OnlineSecurity', 'OnlineBackup',\n",
    "                   'DeviceProtection', 'TechSupport', 'StreamingTV', 'StreamingMovies']\n",
    "for col in cols_to_replace:\n",
    "    df[col] = df[col].replace({'No phone service': 'No', 'No internet service': 'No'})\n",
    "\n",
    "#Realiznado o One-Hot Encoding\n",
    "df_encoded = pd.get_dummies(df.drop(['customerID', 'Churn'], axis=1), drop_first=True)\n",
    "y = df['Churn'].map({'No': 0, 'Yes': 1})\n",
    "\n",
    "#Dividindo em treino/teste\n",
    "X_train, X_test, y_train, y_test = train_test_split(df_encoded, y, test_size=0.3, random_state=42, stratify=y)\n",
    "\n",
    "#Treinando o modelo (Fase mais Legal, rsrs)\n",
    "model = XGBClassifier(use_label_encoder=False, eval_metric='logloss')\n",
    "model.fit(X_train, y_train)"
   ]
  },
  {
   "cell_type": "markdown",
   "id": "d9436e28",
   "metadata": {},
   "source": [
    "#### Simulando a Probabilidade de Churn no Futuro"
   ]
  },
  {
   "cell_type": "code",
   "execution_count": 4,
   "id": "5a270fc8",
   "metadata": {},
   "outputs": [
    {
     "name": "stdout",
     "output_type": "stream",
     "text": [
      "Top 10 Clientes em Risco:\n",
      "      CustomerID  Churn_Probability Actual_Churn\n",
      "4585  1069-XAIEM           0.992019          Yes\n",
      "4517  2012-NWRPA           0.990419          Yes\n",
      "6623  9248-OJYKK           0.987010          Yes\n",
      "2280  2754-SDJRD           0.983850           No\n",
      "2464  2609-IAICY           0.982760          Yes\n",
      "1401  5419-CONWX           0.981028          Yes\n",
      "5826  9507-EXLTT           0.980663          Yes\n",
      "3906  6372-RFVNS           0.979238          Yes\n",
      "1731  8375-DKEBR           0.978843          Yes\n",
      "6317  7493-TPUWZ           0.978333          Yes\n"
     ]
    }
   ],
   "source": [
    "#Prevendo as probabilidades\n",
    "probabilities = model.predict_proba(X_test)[:, 1]\n",
    "df_pred = pd.DataFrame({\n",
    "    'CustomerID': df.loc[X_test.index, 'customerID'],\n",
    "    'Churn_Probability': probabilities,\n",
    "    'Actual_Churn': y_test.map({0: 'No', 1: 'Yes'})\n",
    "})\n",
    "\n",
    "#Exibindo o top 10 clientes com maior risco\n",
    "print(\"Top 10 Clientes em Risco:\")\n",
    "print(df_pred.sort_values(by='Churn_Probability', ascending=False).head(10))"
   ]
  },
  {
   "cell_type": "markdown",
   "id": "7ed56eca",
   "metadata": {},
   "source": [
    "## Visualizações com Interação (Utilizando o Plotly)"
   ]
  },
  {
   "cell_type": "markdown",
   "id": "5d994e79",
   "metadata": {},
   "source": [
    "#### Distribuição da Probabilidade de Churn"
   ]
  },
  {
   "cell_type": "code",
   "execution_count": 5,
   "id": "9c3be25c",
   "metadata": {},
   "outputs": [
    {
     "data": {
      "application/vnd.plotly.v1+json": {
       "config": {
        "plotlyServerURL": "https://plot.ly"
       },
       "data": [
        {
         "alignmentgroup": "True",
         "bingroup": "x",
         "hovertemplate": "Churn_Probability=%{x}<br>count=%{y}<extra></extra>",
         "legendgroup": "",
         "marker": {
          "color": "#636efa",
          "pattern": {
           "shape": ""
          }
         },
         "name": "",
         "nbinsx": 50,
         "offsetgroup": "",
         "orientation": "v",
         "showlegend": false,
         "type": "histogram",
         "x": [
          0.6084730625152588,
          0.000130193613586016,
          0.8187400102615356,
          0.0038350350223481655,
          0.0003975908039137721,
          0.003391123842447996,
          0.001437175553292036,
          0.01091259066015482,
          0.01725822500884533,
          0.0036499472334980965,
          0.08567120879888535,
          0.5643796920776367,
          0.032544560730457306,
          0.0050477534532547,
          0.23177529871463776,
          0.6144307255744934,
          0.00031718536047264934,
          0.005792159587144852,
          0.406765341758728,
          0.001188509864732623,
          0.0020249371882528067,
          0.6656047701835632,
          0.020611612126231194,
          0.004206761717796326,
          0.18857882916927338,
          0.0018629762344062328,
          0.00017778496840037405,
          0.9101083874702454,
          0.5856972336769104,
          0.06107376888394356,
          0.014048771001398563,
          0.0026759072206914425,
          0.4028039872646332,
          0.075528584420681,
          0.04808328300714493,
          0.4851718544960022,
          0.0014793375739827752,
          0.2751343548297882,
          0.3610292077064514,
          0.013210322707891464,
          0.1643250286579132,
          0.00579147320240736,
          0.22461602091789246,
          0.9792376756668091,
          0.11771782487630844,
          0.5704944133758545,
          0.25949713587760925,
          0.22943341732025146,
          0.18382145464420319,
          0.006460214499384165,
          0.006911040283739567,
          0.0829911157488823,
          0.41832372546195984,
          0.17121069133281708,
          0.708943247795105,
          0.19328993558883667,
          0.2505453824996948,
          0.00505596911534667,
          0.002105044899508357,
          0.004843214526772499,
          0.0020104225259274244,
          0.92705237865448,
          0.0027798369992524385,
          0.449747234582901,
          0.16762283444404602,
          0.04977809637784958,
          0.0011225438211113214,
          0.025492621585726738,
          0.510280966758728,
          0.6114283204078674,
          0.33104076981544495,
          0.0037729821633547544,
          0.8248499631881714,
          0.0035546887665987015,
          0.0019108304986730218,
          0.03406268730759621,
          0.006292388308793306,
          0.28356462717056274,
          0.005922107491642237,
          0.007840135134756565,
          0.00020025408593937755,
          0.13698838651180267,
          0.22552846372127533,
          0.06288764625787735,
          0.14886456727981567,
          0.006910579279065132,
          0.12361644208431244,
          0.0005827180575579405,
          0.08356170356273651,
          0.0007560350932180882,
          0.4682597815990448,
          0.0759509801864624,
          0.2678535580635071,
          0.0047502899542450905,
          0.17228485643863678,
          0.09643848240375519,
          0.08696381747722626,
          0.6332126259803772,
          0.34049296379089355,
          0.8344329595565796,
          0.18718206882476807,
          0.00020419672364369035,
          0.14878855645656586,
          0.7686837315559387,
          0.9467843770980835,
          0.33668264746665955,
          0.6395098567008972,
          0.3135053813457489,
          0.08439517021179199,
          0.028020629659295082,
          0.05345994606614113,
          0.24876026809215546,
          0.5967206954956055,
          0.022060202434659004,
          0.5426573753356934,
          0.23068872094154358,
          0.04265487194061279,
          0.20873497426509857,
          0.0010761325247585773,
          0.039219554513692856,
          0.030756346881389618,
          0.9352487325668335,
          0.3089810907840729,
          0.2976400852203369,
          0.7009314894676208,
          0.3873523473739624,
          0.001128531526774168,
          0.486077219247818,
          0.14222468435764313,
          0.19963069260120392,
          0.03670881688594818,
          0.0015198258915916085,
          0.01011380460113287,
          0.5118505358695984,
          0.05951360985636711,
          0.48249030113220215,
          0.5923810005187988,
          0.24472442269325256,
          0.9161198139190674,
          0.0003262534737586975,
          0.8949264883995056,
          0.2547498047351837,
          0.571151852607727,
          0.49987223744392395,
          0.30402448773384094,
          0.001650798018090427,
          0.7312541007995605,
          0.11341052502393723,
          0.013255189172923565,
          0.17271800339221954,
          0.9183334708213806,
          0.5058429837226868,
          0.07369200885295868,
          0.06170874089002609,
          0.117860808968544,
          0.483395516872406,
          0.19410310685634613,
          0.1267484873533249,
          0.2769060432910919,
          0.03291728347539902,
          0.22422732412815094,
          0.004680727142840624,
          0.900721549987793,
          0.7423829436302185,
          0.4071882963180542,
          0.3449857234954834,
          0.09797430038452148,
          0.10357304662466049,
          0.8933732509613037,
          0.017231443896889687,
          0.6435650587081909,
          0.0076778545044362545,
          0.12910176813602448,
          0.3257618844509125,
          0.18211309611797333,
          0.7214533686637878,
          0.0001707146584521979,
          0.00522988336160779,
          0.0026693297550082207,
          0.6240529417991638,
          0.0043835206888616085,
          0.00010609973833197728,
          0.3938653767108917,
          0.001995798898860812,
          0.4835246503353119,
          0.1679842174053192,
          0.5725321173667908,
          0.006077957339584827,
          0.9434961080551147,
          0.6887431740760803,
          0.0047411792911589146,
          0.9259525537490845,
          0.5377805233001709,
          0.46644532680511475,
          0.43768781423568726,
          0.014941568486392498,
          0.7227286696434021,
          0.0006662817904725671,
          0.6112362146377563,
          0.40145421028137207,
          0.00621035834774375,
          0.6806209087371826,
          0.6491320133209229,
          0.0008273160783573985,
          0.24508486688137054,
          0.9683190584182739,
          0.5563494563102722,
          0.03768422454595566,
          0.017892610281705856,
          0.80391526222229,
          0.17017139494419098,
          0.08575229346752167,
          0.009743076749145985,
          0.11793871223926544,
          0.08371459692716599,
          0.00041591678746044636,
          0.05870737135410309,
          0.007556511554867029,
          0.7314339876174927,
          0.014625225216150284,
          0.114530049264431,
          0.10625313222408295,
          0.012773899361491203,
          0.617520272731781,
          0.04466884955763817,
          0.0046019055880606174,
          0.0014039429370313883,
          0.09856528043746948,
          0.07095986604690552,
          0.0013830317184329033,
          0.7644461989402771,
          0.07442630082368851,
          0.1816263496875763,
          0.006151997484266758,
          0.5735962390899658,
          0.38863930106163025,
          0.4724547564983368,
          0.09011410176753998,
          0.07724796235561371,
          0.3521844446659088,
          0.0009429285419173539,
          0.19265924394130707,
          0.010663386434316635,
          0.8387947082519531,
          0.24397318065166473,
          0.259006530046463,
          0.003066693665459752,
          0.2242177426815033,
          0.3620494306087494,
          0.4049772620201111,
          0.3335553705692291,
          0.08193160593509674,
          0.7355864644050598,
          0.7553730607032776,
          0.11523681879043579,
          0.0006661741645075381,
          0.003134222002699971,
          0.017445925623178482,
          0.00010603471309877932,
          0.03804366663098335,
          0.0006843011360615492,
          0.10484395176172256,
          0.0012369997566565871,
          0.02150489017367363,
          0.0015717841451987624,
          0.0009836775716394186,
          0.8595951795578003,
          0.31694474816322327,
          0.1070893332362175,
          0.00806259736418724,
          0.6083559393882751,
          0.00555727444589138,
          0.08061818033456802,
          0.15767279267311096,
          0.36794039607048035,
          0.6955388188362122,
          0.7868227362632751,
          0.6332126259803772,
          0.4545176029205322,
          0.4104790687561035,
          0.002520867856219411,
          0.031028805300593376,
          0.05851646885275841,
          0.1128469705581665,
          0.012948453426361084,
          0.08809195458889008,
          0.026242339983582497,
          0.5583471059799194,
          0.9248980283737183,
          0.5957779288291931,
          0.003391207428649068,
          0.002259002299979329,
          0.2845710515975952,
          0.22281143069267273,
          0.02365242876112461,
          0.2480679154396057,
          0.007399360183626413,
          0.4551677107810974,
          0.0007149939192458987,
          0.3232494592666626,
          0.175346240401268,
          0.8991423845291138,
          0.42606624960899353,
          0.08714532852172852,
          0.538388192653656,
          0.05438264459371567,
          0.0018208305118605494,
          0.429128497838974,
          0.006650600116699934,
          0.0006357741658575833,
          0.010265316814184189,
          0.5545703172683716,
          0.0009212777367793024,
          0.0005996418767608702,
          0.4619927406311035,
          0.9740967750549316,
          0.07648804783821106,
          0.18811608850955963,
          0.4828369915485382,
          0.10961145162582397,
          0.0009141694172285497,
          0.06833472847938538,
          0.0015168729005381465,
          0.7390909194946289,
          0.0008940864354372025,
          0.648484468460083,
          0.36308687925338745,
          0.0010002146009355783,
          0.7075299620628357,
          0.5765131115913391,
          0.34954601526260376,
          0.0021741767413914204,
          0.031693387776613235,
          0.9257513880729675,
          0.1939973384141922,
          0.05944652110338211,
          0.02909274213016033,
          0.07404512912034988,
          0.08047737926244736,
          0.5579457879066467,
          0.3314257562160492,
          0.5890336036682129,
          0.16081605851650238,
          0.0013281235005706549,
          0.29911839962005615,
          0.00343482312746346,
          0.5218538641929626,
          0.015279692597687244,
          0.22186680138111115,
          0.0014459056546911597,
          0.02823323756456375,
          0.06668621301651001,
          0.875084400177002,
          0.07123568654060364,
          0.18276283144950867,
          0.10032976418733597,
          0.8591956496238708,
          0.046943943947553635,
          0.39681968092918396,
          0.41143256425857544,
          0.0017461476381868124,
          0.016224153339862823,
          0.00035331075196154416,
          0.009347280487418175,
          0.8717621564865112,
          0.0027974701952189207,
          0.3786908984184265,
          0.03157902881503105,
          0.29259952902793884,
          0.08888904750347137,
          0.0022852348629385233,
          0.000529981916770339,
          0.0002534473896957934,
          0.007336833514273167,
          0.10920447111129761,
          0.21878427267074585,
          0.4838128387928009,
          0.008142923936247826,
          0.0001888532715383917,
          0.6429761052131653,
          0.34250035881996155,
          0.012548654340207577,
          0.13653460144996643,
          0.0026110776234418154,
          0.00021294479665812105,
          0.7383509278297424,
          0.31065675616264343,
          0.5848905444145203,
          0.1775854378938675,
          0.009874572046101093,
          0.20799772441387177,
          0.19855080544948578,
          0.7241912484169006,
          0.0002442840486764908,
          0.0618477426469326,
          0.8582521677017212,
          0.3360970616340637,
          0.34321972727775574,
          0.012814939022064209,
          0.6601999402046204,
          0.00028696240042336285,
          0.022299980744719505,
          0.005370252300053835,
          0.19442474842071533,
          0.8263687491416931,
          0.0006836378597654402,
          0.041140902787446976,
          0.004752073436975479,
          0.019528299570083618,
          0.11421961337327957,
          0.8501946330070496,
          0.07868032902479172,
          0.06778129935264587,
          0.3170350193977356,
          0.04612567648291588,
          0.49309176206588745,
          0.0071807424537837505,
          0.08279816806316376,
          0.030605392530560493,
          0.13479463756084442,
          0.31034719944000244,
          0.30084529519081116,
          0.01089190412312746,
          0.27051693201065063,
          0.3645632565021515,
          0.0004882069770246744,
          0.0033738953061401844,
          0.57553631067276,
          0.5451151728630066,
          0.7155734896659851,
          0.5381542444229126,
          0.03723643720149994,
          0.049621764570474625,
          0.20805086195468903,
          0.0039506945759058,
          0.06732351332902908,
          0.6704022884368896,
          0.5449519753456116,
          0.0533914677798748,
          0.3757563531398773,
          0.004139475990086794,
          0.00037755188532173634,
          0.0009188666008412838,
          0.3382242023944855,
          0.0013178085209801793,
          0.8947893381118774,
          0.0178021639585495,
          0.7499279379844666,
          0.33344003558158875,
          0.00011994028318440542,
          0.13963404297828674,
          0.7054501175880432,
          0.05081246420741081,
          0.2028944045305252,
          0.6635164618492126,
          0.01138313114643097,
          0.005604859907180071,
          0.06299865245819092,
          0.40692296624183655,
          0.4022495448589325,
          0.598081111907959,
          0.00032993056811392307,
          0.3814658522605896,
          0.357494592666626,
          0.4886268079280853,
          0.9475849866867065,
          0.05873839557170868,
          0.9294224977493286,
          0.7474045753479004,
          0.06594772636890411,
          0.7161858081817627,
          0.030529038980603218,
          0.6381794810295105,
          0.0006446925108321011,
          0.01333761028945446,
          0.07984878122806549,
          0.9312162399291992,
          0.45364904403686523,
          0.6273432374000549,
          0.002981592435389757,
          0.1526496410369873,
          0.09587709605693817,
          0.13407288491725922,
          0.9205784201622009,
          0.08226294815540314,
          0.0059115951880812645,
          0.19796906411647797,
          0.5975301861763,
          0.003817190881818533,
          0.13267655670642853,
          0.3104206323623657,
          0.7054689526557922,
          0.025660399347543716,
          0.014224103651940823,
          0.13796351850032806,
          0.06923139095306396,
          0.0011883978731930256,
          0.047795962542295456,
          0.033830463886260986,
          0.5908330082893372,
          0.13763205707073212,
          0.6135924458503723,
          0.04709569737315178,
          0.4822668135166168,
          0.7054468393325806,
          0.18900877237319946,
          0.9542298913002014,
          0.02399372309446335,
          0.017327988520264626,
          0.8851388692855835,
          0.0003589926927816123,
          0.18382591009140015,
          0.7275320887565613,
          0.0039732432924211025,
          0.10380681604146957,
          0.024374963715672493,
          0.42009735107421875,
          0.1705661565065384,
          0.03168989717960358,
          0.025645405054092407,
          0.00717898178845644,
          0.5952306389808655,
          0.3757348954677582,
          0.08717934787273407,
          0.5224441885948181,
          0.12521174550056458,
          0.1992163062095642,
          0.0012269779108464718,
          0.3424626886844635,
          0.042704027146101,
          0.24835419654846191,
          0.0012334531638771296,
          0.5263303518295288,
          0.0007426494266837835,
          0.0012032360536977649,
          0.004014370962977409,
          0.7805406451225281,
          0.008497471921145916,
          0.0014905857387930155,
          0.032685019075870514,
          0.01173336524516344,
          0.047483012080192566,
          0.5141286849975586,
          0.0011575276730582118,
          0.019389161840081215,
          0.00006902632594574243,
          0.005142152309417725,
          0.011126261204481125,
          0.1084686741232872,
          0.05069371685385704,
          0.04429633170366287,
          0.0007834936841391027,
          0.2808539867401123,
          0.5748937129974365,
          0.8725382685661316,
          0.20241506397724152,
          0.24155160784721375,
          0.23468345403671265,
          0.7650721669197083,
          0.001890694722533226,
          0.0958133414387703,
          0.4722635746002197,
          0.8591644167900085,
          0.5789188146591187,
          0.9810280203819275,
          0.6567662954330444,
          0.2688155174255371,
          0.02177768014371395,
          0.41094231605529785,
          0.5067735910415649,
          0.09889983385801315,
          0.006644589826464653,
          0.6241425275802612,
          0.2236376255750656,
          0.20161405205726624,
          0.13175518810749054,
          0.41927385330200195,
          0.7685990333557129,
          0.0261121466755867,
          0.2803771495819092,
          0.21929287910461426,
          0.00930388830602169,
          0.7534117102622986,
          0.003888739040121436,
          0.3657332956790924,
          0.013270696625113487,
          0.9170127511024475,
          0.013694841414690018,
          0.02048126421868801,
          0.1285426765680313,
          0.003139318199828267,
          0.024206558242440224,
          0.26537472009658813,
          0.012454620562493801,
          0.08548946678638458,
          0.009717993438243866,
          0.005990384146571159,
          0.008779018186032772,
          0.17588113248348236,
          0.051352955400943756,
          0.007438026834279299,
          0.6507540941238403,
          0.007985825650393963,
          0.4683135151863098,
          0.0014697053702548146,
          0.07594074308872223,
          0.7763853669166565,
          0.015567028895020485,
          0.7587138414382935,
          0.9251525402069092,
          0.11896798759698868,
          0.1871878057718277,
          0.47228333353996277,
          0.011291256174445152,
          0.007624604739248753,
          0.3207869529724121,
          0.8110453486442566,
          0.07757813483476639,
          0.004023387562483549,
          0.06390941143035889,
          0.009607786312699318,
          0.0073605733923614025,
          0.547469437122345,
          0.5804963111877441,
          0.386679083108902,
          0.006434461567550898,
          0.5647992491722107,
          0.14993858337402344,
          0.33584728837013245,
          0.0025644833222031593,
          0.12320227175951004,
          0.19631168246269226,
          0.04883623495697975,
          0.0006800188566558063,
          0.011472154408693314,
          0.2047906070947647,
          0.6472877860069275,
          0.04970233514904976,
          0.359241247177124,
          0.0023400033824145794,
          0.04495479166507721,
          0.0006087796646170318,
          0.3400731086730957,
          0.010540925897657871,
          0.8924031853675842,
          0.2347031980752945,
          0.1638304889202118,
          0.025999832898378372,
          0.01632152870297432,
          0.508685827255249,
          0.2922964096069336,
          0.7909590005874634,
          0.0013356368290260434,
          0.0016894571017473936,
          0.004938202910125256,
          0.5963590145111084,
          0.007471377961337566,
          0.24659530818462372,
          0.45162278413772583,
          0.6387450695037842,
          0.43131840229034424,
          0.055829472839832306,
          0.17162075638771057,
          0.0012341500259935856,
          0.025407949462532997,
          0.03038329817354679,
          0.21022221446037292,
          0.24476760625839233,
          0.05493316054344177,
          0.00008456948853563517,
          0.02252127416431904,
          0.8884146809577942,
          0.825954020023346,
          0.005513714626431465,
          0.7537903189659119,
          0.33550095558166504,
          0.2829211950302124,
          0.09986869245767593,
          0.0019313341472297907,
          0.02393287792801857,
          0.21426597237586975,
          0.0018061581067740917,
          0.5984290838241577,
          0.10878253728151321,
          0.02549707144498825,
          0.12110745906829834,
          0.08111739903688431,
          0.5354968309402466,
          0.1344357430934906,
          0.2799796164035797,
          0.00012141239130869508,
          0.17821574211120605,
          0.004166475497186184,
          0.7099526524543762,
          0.01013938058167696,
          0.1177058294415474,
          0.00039293733425438404,
          0.5506714582443237,
          0.43709617853164673,
          0.7823275923728943,
          0.3343130350112915,
          0.01318447571247816,
          0.007457515690475702,
          0.012463444843888283,
          0.0007109690923243761,
          0.9145058989524841,
          0.46209508180618286,
          0.2633409798145294,
          0.5952866673469543,
          0.013873260468244553,
          0.06650979071855545,
          0.5090422630310059,
          0.005879228934645653,
          0.004883377812802792,
          0.16731348633766174,
          0.010504567995667458,
          0.8395898938179016,
          0.07108151912689209,
          0.802882969379425,
          0.1221216544508934,
          0.0010502522345632315,
          0.13452662527561188,
          0.0007601394318044186,
          0.00046369541087187827,
          0.4874145984649658,
          0.057780709117650986,
          0.20708024501800537,
          0.42834192514419556,
          0.014278879389166832,
          0.03693491593003273,
          0.012629372999072075,
          0.0020432781893759966,
          0.05865493416786194,
          0.030975699424743652,
          0.06080745905637741,
          0.18338261544704437,
          0.5456826686859131,
          0.08298487961292267,
          0.0952557697892189,
          0.009512905962765217,
          0.4878038763999939,
          0.008111465722322464,
          0.1554727405309677,
          0.006990452762693167,
          0.5325652360916138,
          0.046605635434389114,
          0.0003534519055392593,
          0.1122804582118988,
          0.17685575783252716,
          0.0032214047387242317,
          0.22131399810314178,
          0.006542592775076628,
          0.9557437896728516,
          0.2138369083404541,
          0.3381848633289337,
          0.42283573746681213,
          0.7149389386177063,
          0.7715205550193787,
          0.016421906650066376,
          0.000761120580136776,
          0.007832509465515614,
          0.48517724871635437,
          0.31339654326438904,
          0.017096498981118202,
          0.7374286651611328,
          0.1040964275598526,
          0.002528374083340168,
          0.5431310534477234,
          0.4899158775806427,
          0.8244490027427673,
          0.32689231634140015,
          0.9783334732055664,
          0.23086105287075043,
          0.134654238820076,
          0.0005424783448688686,
          0.053593870252370834,
          0.48895227909088135,
          0.044875647872686386,
          0.4408084750175476,
          0.6675355434417725,
          0.0005491158226504922,
          0.0003075266140513122,
          0.0005236139404587448,
          0.07466669380664825,
          0.0014962820569053292,
          0.2134166806936264,
          0.6363493800163269,
          0.7367706298828125,
          0.2538832128047943,
          0.15491539239883423,
          0.02318018674850464,
          0.5001883506774902,
          0.5864105820655823,
          0.8413429260253906,
          0.009932545013725758,
          0.0039890846237540245,
          0.973591685295105,
          0.026299338787794113,
          0.001258275005966425,
          0.005779051687568426,
          0.0001477679907111451,
          0.5017011165618896,
          0.8884850740432739,
          0.9557437896728516,
          0.24332387745380402,
          0.24856384098529816,
          0.7393918037414551,
          0.8564596772193909,
          0.04815496504306793,
          0.22966817021369934,
          0.13815785944461823,
          0.5292683243751526,
          0.6781338453292847,
          0.4008404612541199,
          0.10921144485473633,
          0.02172231301665306,
          0.0021489043720066547,
          0.004552051890641451,
          0.0016991556622087955,
          0.0018993429839611053,
          0.12632396817207336,
          0.7692144513130188,
          0.0022049525287002325,
          0.10486352443695068,
          0.016775302588939667,
          0.003449962707236409,
          0.011379371397197247,
          0.0029555903747677803,
          0.03905034065246582,
          0.2808166742324829,
          0.764282763004303,
          0.11486443877220154,
          0.5486482381820679,
          0.151310995221138,
          0.13821664452552795,
          0.9364501237869263,
          0.02609592117369175,
          0.055479347705841064,
          0.037137217819690704,
          0.00029147343593649566,
          0.00021977665892336518,
          0.0004992872709408402,
          0.020447492599487305,
          0.0072547923773527145,
          0.068711057305336,
          0.001450433861464262,
          0.00007954524335218593,
          0.01355875562876463,
          0.9648461937904358,
          0.0592234805226326,
          0.4010958969593048,
          0.5042667984962463,
          0.024629365652799606,
          0.12282226234674454,
          0.2740505635738373,
          0.008243006654083729,
          0.14107921719551086,
          0.07206565141677856,
          0.2816728353500366,
          0.3700992166996002,
          0.018633952364325523,
          0.002593555022031069,
          0.4222014844417572,
          0.032328084111213684,
          0.027407720685005188,
          0.1942126750946045,
          0.7499178647994995,
          0.8756609559059143,
          0.0029451404698193073,
          0.15695585310459137,
          0.5882879495620728,
          0.9768392443656921,
          0.0005294996662996709,
          0.13491477072238922,
          0.0004906118265353143,
          0.7414170503616333,
          0.31879371404647827,
          0.3232497572898865,
          0.12706241011619568,
          0.49860379099845886,
          0.10351618379354477,
          0.010614450089633465,
          0.02085905894637108,
          0.8175387382507324,
          0.7382949590682983,
          0.0007766340859234333,
          0.029908455908298492,
          0.25968095660209656,
          0.4008817672729492,
          0.5670846104621887,
          0.08873169124126434,
          0.4803657531738281,
          0.5435611009597778,
          0.06700265407562256,
          0.8753355145454407,
          0.06755170226097107,
          0.24841715395450592,
          0.15995033085346222,
          0.050804853439331055,
          0.3070715069770813,
          0.011593191884458065,
          0.32093295454978943,
          0.10907284915447235,
          0.6045405864715576,
          0.1712513566017151,
          0.9602085947990417,
          0.034428082406520844,
          0.7726617455482483,
          0.4628989100456238,
          0.0003068427904509008,
          0.018699219450354576,
          0.0009427156182937324,
          0.0013574672630056739,
          0.6218826770782471,
          0.014805306680500507,
          0.9770880937576294,
          0.04310399293899536,
          0.9275150895118713,
          0.5324355363845825,
          0.2838932275772095,
          0.0839662179350853,
          0.4675506055355072,
          0.038436248898506165,
          0.49257469177246094,
          0.03487525135278702,
          0.02495468221604824,
          0.0021344248671084642,
          0.11737469583749771,
          0.7391964793205261,
          0.024613196030259132,
          0.0007170556928031147,
          0.005083166062831879,
          0.0023538183886557817,
          0.04302869737148285,
          0.8637983798980713,
          0.007855402305722237,
          0.11420665681362152,
          0.020390057936310768,
          0.440572053194046,
          0.4850326180458069,
          0.07011421769857407,
          0.6899129748344421,
          0.6863157153129578,
          0.3830138146877289,
          0.19353081285953522,
          0.03164497762918472,
          0.4811781644821167,
          0.1764942705631256,
          0.003908026032149792,
          0.33564746379852295,
          0.9206602573394775,
          0.21913841366767883,
          0.0008691333350725472,
          0.44096019864082336,
          0.06505654007196426,
          0.4319392740726471,
          0.1985834836959839,
          0.5087012052536011,
          0.0800543799996376,
          0.09844506531953812,
          0.12582938373088837,
          0.00042037275852635503,
          0.003909884486347437,
          0.8788175582885742,
          0.03207056224346161,
          0.5622275471687317,
          0.27081745862960815,
          0.006482914090156555,
          0.04858555644750595,
          0.8980318307876587,
          0.18850091099739075,
          0.13930374383926392,
          0.7981814742088318,
          0.1760493814945221,
          0.8313676714897156,
          0.05513543635606766,
          0.28854045271873474,
          0.06480792909860611,
          0.00507863936945796,
          0.6499320268630981,
          0.008404945954680443,
          0.9494463205337524,
          0.012592571787536144,
          0.033810317516326904,
          0.7064001560211182,
          0.03703276067972183,
          0.0760546401143074,
          0.4085046052932739,
          0.16123616695404053,
          0.4049272835254669,
          0.4583147466182709,
          0.0004949491703882813,
          0.06263754516839981,
          0.4105228781700134,
          0.0002565660106483847,
          0.019814781844615936,
          0.7984561920166016,
          0.31705814599990845,
          0.0630953386425972,
          0.8601929545402527,
          0.3249562382698059,
          0.002746631857007742,
          0.002324528992176056,
          0.003587938379496336,
          0.00436108373105526,
          0.08613236993551254,
          0.022226490080356598,
          0.005399240646511316,
          0.2310733050107956,
          0.5200598835945129,
          0.1320202797651291,
          0.36217108368873596,
          0.0012446517357602715,
          0.005153387784957886,
          0.31317558884620667,
          0.00670486968010664,
          0.19561073184013367,
          0.03616026043891907,
          0.25881847739219666,
          0.3148817718029022,
          0.6018633842468262,
          0.01890551671385765,
          0.6676620841026306,
          0.000249755394179374,
          0.002847340190783143,
          0.8270595073699951,
          0.18353919684886932,
          0.002049767877906561,
          0.5186991095542908,
          0.062196217477321625,
          0.15558592975139618,
          0.02060532569885254,
          0.7376464605331421,
          0.5285564064979553,
          0.5336925983428955,
          0.06969818472862244,
          0.25931450724601746,
          0.7088631987571716,
          0.13363903760910034,
          0.33661746978759766,
          0.005741520784795284,
          0.03354521840810776,
          0.6938673853874207,
          0.04329104721546173,
          0.0027269141282886267,
          0.0004947159322910011,
          0.4172537922859192,
          0.2503083348274231,
          0.04882865771651268,
          0.7889395356178284,
          0.05759622901678085,
          0.10175825655460358,
          0.32940682768821716,
          0.4265916347503662,
          0.49515488743782043,
          0.04473361745476723,
          0.029886139556765556,
          0.0006175460875965655,
          0.5378251671791077,
          0.0003182640066370368,
          0.8929407000541687,
          0.09547537565231323,
          0.0031654327176511288,
          0.837976336479187,
          0.01022655051201582,
          0.07762268930673599,
          0.008017323911190033,
          0.002926476066932082,
          0.07836820930242538,
          0.00044296649866737425,
          0.976611316204071,
          0.41652682423591614,
          0.02046367898583412,
          0.7100661396980286,
          0.11153092235326767,
          0.4265916347503662,
          0.05582225322723389,
          0.3661603629589081,
          0.2477070689201355,
          0.006809772923588753,
          0.436388224363327,
          0.016218429431319237,
          0.2012619972229004,
          0.1776304841041565,
          0.1781812310218811,
          0.011386270634829998,
          0.09634104371070862,
          0.09299631416797638,
          0.37641483545303345,
          0.03646036610007286,
          0.11652203649282455,
          0.002377041382715106,
          0.0008293912396766245,
          0.04520956054329872,
          0.0032073426991701126,
          0.9061245322227478,
          0.004803309217095375,
          0.21303044259548187,
          0.009604556486010551,
          0.0025821749586611986,
          0.014393947087228298,
          0.7644159197807312,
          0.6023212671279907,
          0.08771201968193054,
          0.036527592688798904,
          0.005562410689890385,
          0.0011895886855199933,
          0.001105469767935574,
          0.005081864073872566,
          0.6815680861473083,
          0.28396159410476685,
          0.465493381023407,
          0.08435069024562836,
          0.023047251626849174,
          0.16054481267929077,
          0.032677438110113144,
          0.37818849086761475,
          0.00344090536236763,
          0.0025479428004473448,
          0.011779208667576313,
          0.0013407430378720164,
          0.022807752713561058,
          0.0032099857926368713,
          0.34026816487312317,
          0.7943221926689148,
          0.5076903104782104,
          0.047933179885149,
          0.003940460737794638,
          0.2888166904449463,
          0.0043167658150196075,
          0.0019276967504993081,
          0.0115879587829113,
          0.0032862378284335136,
          0.37161368131637573,
          0.835509181022644,
          0.6009711027145386,
          0.4070965051651001,
          0.7765278220176697,
          0.7234789729118347,
          0.10942646116018295,
          0.9234113693237305,
          0.0035239073913544416,
          0.009138551540672779,
          0.0041757747530937195,
          0.011617269366979599,
          0.0017976158997043967,
          0.06284327805042267,
          0.16038410365581512,
          0.16980724036693573,
          0.00859071034938097,
          0.25390323996543884,
          0.2808539867401123,
          0.8324931263923645,
          0.6094368100166321,
          0.015614217147231102,
          0.030499408021569252,
          0.00030355138005688787,
          0.3233952224254608,
          0.0005574383540078998,
          0.016653595492243767,
          0.08482643961906433,
          0.5877224802970886,
          0.9672240018844604,
          0.5632867217063904,
          0.07012000679969788,
          0.606107234954834,
          0.2925536632537842,
          0.006018910091370344,
          0.014915559440851212,
          0.8472719788551331,
          0.6013070940971375,
          0.00021290581207722425,
          0.12178020179271698,
          0.45240435004234314,
          0.183574378490448,
          0.6705597043037415,
          0.5308305621147156,
          0.12070470303297043,
          0.8250308632850647,
          0.0016253794310614467,
          0.08896980434656143,
          0.28904977440834045,
          0.01990935206413269,
          0.0009481708402745426,
          0.42141878604888916,
          0.0005110494093969464,
          0.07688762992620468,
          0.0008549441117793322,
          0.08233365416526794,
          0.038102757185697556,
          0.01822645775973797,
          0.18670402467250824,
          0.09406174719333649,
          0.1474957913160324,
          0.5802847743034363,
          0.39529281854629517,
          0.29889994859695435,
          0.1737503558397293,
          0.7864792346954346,
          0.005968829616904259,
          0.013850981369614601,
          0.000370854017091915,
          0.04369203746318817,
          0.3104628920555115,
          0.007655775174498558,
          0.7254063487052917,
          0.002047000452876091,
          0.8812248110771179,
          0.011087260209023952,
          0.007287287153303623,
          0.0008058386156335473,
          0.5703712701797485,
          0.6824450492858887,
          0.005049599800258875,
          0.8778828978538513,
          0.8097112774848938,
          0.6151946187019348,
          0.013346693478524685,
          0.0003521291073411703,
          0.0243438221514225,
          0.01800180971622467,
          0.3675931990146637,
          0.0014134275261312723,
          0.19011564552783966,
          0.968546450138092,
          0.05302375182509422,
          0.0471872016787529,
          0.024997148662805557,
          0.81304931640625,
          0.4075475037097931,
          0.7285246849060059,
          0.02964196167886257,
          0.0461944118142128,
          0.042786579579114914,
          0.0018523379694670439,
          0.8594617247581482,
          0.590573787689209,
          0.43440768122673035,
          0.025047356262803078,
          0.9260704517364502,
          0.00838534440845251,
          0.1792028546333313,
          0.001346434117294848,
          0.5322979092597961,
          0.1513351947069168,
          0.27388113737106323,
          0.001966963754966855,
          0.4836359918117523,
          0.02717621438205242,
          0.9229053854942322,
          0.14463132619857788,
          0.29166609048843384,
          0.7542548775672913,
          0.14569678902626038,
          0.9215154647827148,
          0.04556446895003319,
          0.39037543535232544,
          0.2504032254219055,
          0.029748473316431046,
          0.0021037852857261896,
          0.029012059792876244,
          0.005822305101901293,
          0.002003712812438607,
          0.9838497638702393,
          0.0010957777267321944,
          0.000778662390075624,
          0.0606808066368103,
          0.06098875403404236,
          0.22737762331962585,
          0.03163698688149452,
          0.009255163371562958,
          0.009163780137896538,
          0.10405080765485764,
          0.9827601909637451,
          0.8004948496818542,
          0.9426999688148499,
          0.06830652803182602,
          0.05991554632782936,
          0.12035393714904785,
          0.18828189373016357,
          0.2417096197605133,
          0.0008118280093185604,
          0.6759498715400696,
          0.24796909093856812,
          0.6851106882095337,
          0.0014911146136000752,
          0.0003588471154216677,
          0.09449652582406998,
          0.8984438180923462,
          0.24603648483753204,
          0.00485354196280241,
          0.0024556478019803762,
          0.6096078157424927,
          0.5728575587272644,
          0.009024304337799549,
          0.21461419761180878,
          0.2542126178741455,
          0.29458245635032654,
          0.061282675713300705,
          0.0137445367872715,
          0.6744627356529236,
          0.08327095210552216,
          0.1180262491106987,
          0.8867942690849304,
          0.7588365077972412,
          0.6743372678756714,
          0.006395970471203327,
          0.16227230429649353,
          0.1623929738998413,
          0.009829781949520111,
          0.0013034578878432512,
          0.02313271351158619,
          0.00017491170729044825,
          0.15416991710662842,
          0.008818141184747219,
          0.09403958916664124,
          0.0018272523302584887,
          0.05068172141909599,
          0.0005870237946510315,
          0.310840904712677,
          0.0037973481230437756,
          0.4644615352153778,
          0.0002699023752938956,
          0.23354506492614746,
          0.0001252752699656412,
          0.8218904137611389,
          0.5759062767028809,
          0.2976400852203369,
          0.29552361369132996,
          0.059033092111349106,
          0.007170968689024448,
          0.05986272171139717,
          0.013354991562664509,
          0.0296767707914114,
          0.08323810994625092,
          0.1652388721704483,
          0.8973260521888733,
          0.6288204193115234,
          0.0003831727080978453,
          0.12952929735183716,
          0.6338412165641785,
          0.17434781789779663,
          0.00021990598179399967,
          0.00030066707404330373,
          0.0023244372569024563,
          0.01427102368324995,
          0.004333945922553539,
          0.3765283226966858,
          0.48021429777145386,
          0.9221439361572266,
          0.0031000799499452114,
          0.012339035049080849,
          0.09976877272129059,
          0.07940497249364853,
          0.8167245984077454,
          0.5917511582374573,
          0.04158845171332359,
          0.24096377193927765,
          0.0026558709796518087,
          0.03660223260521889,
          0.08742878586053848,
          0.09071725606918335,
          0.005062490701675415,
          0.3709713816642761,
          0.003075140295550227,
          0.19978538155555725,
          0.12145426124334335,
          0.2929948568344116,
          0.5419272780418396,
          0.005541580729186535,
          0.03136013075709343,
          0.05464710667729378,
          0.0003791811759583652,
          0.04072944447398186,
          0.05341839790344238,
          0.01569465920329094,
          0.03220229595899582,
          0.8865983486175537,
          0.006375950761139393,
          0.2691841125488281,
          0.3526577651500702,
          0.4624714255332947,
          0.9627012610435486,
          0.8197693824768066,
          0.9788426160812378,
          0.001764137065038085,
          0.02008022554218769,
          0.010839348658919334,
          0.9806631207466125,
          0.11289467662572861,
          0.000130038388306275,
          0.41901129484176636,
          0.3621135950088501,
          0.0008060801774263382,
          0.05358164757490158,
          0.21482321619987488,
          0.00748781394213438,
          0.3003362715244293,
          0.15868082642555237,
          0.23429855704307556,
          0.06547089666128159,
          0.0005185616901144385,
          0.4482980966567993,
          0.0765397772192955,
          0.30220645666122437,
          0.0040918923914432526,
          0.7534117102622986,
          0.00946410745382309,
          0.44856375455856323,
          0.269273579120636,
          0.9420216679573059,
          0.25110387802124023,
          0.04833061248064041,
          0.042243942618370056,
          0.025758609175682068,
          0.2702666223049164,
          0.22289501130580902,
          0.00463580247014761,
          0.002896599005907774,
          0.07580853253602982,
          0.8369705080986023,
          0.10981573909521103,
          0.769841730594635,
          0.03416174650192261,
          0.2899905741214752,
          0.19594524800777435,
          0.7342174649238586,
          0.7434543371200562,
          0.009025774896144867,
          0.01487464364618063,
          0.11266111582517624,
          0.0013703496661037207,
          0.06606141477823257,
          0.008253764361143112,
          0.90927654504776,
          0.0029980610124766827,
          0.0029408056288957596,
          0.001142033375799656,
          0.021075842902064323,
          0.16582413017749786,
          0.6006581783294678,
          0.07920357584953308,
          0.0024382632691413164,
          0.717278778553009,
          0.08819220960140228,
          0.021525932475924492,
          0.8809582591056824,
          0.8707551956176758,
          0.6811885237693787,
          0.0013198797823861241,
          0.01046687364578247,
          0.91363924741745,
          0.3413146138191223,
          0.23649045825004578,
          0.0008548639016225934,
          0.004588899202644825,
          0.002235276857391,
          0.044279951602220535,
          0.028132472187280655,
          0.011765201576054096,
          0.8221136331558228,
          0.0035991130862385035,
          0.4423973262310028,
          0.0005593429668806493,
          0.2724193036556244,
          0.41412079334259033,
          0.13466283679008484,
          0.018388167023658752,
          0.0071662175469100475,
          0.7761271595954895,
          0.4362821578979492,
          0.00621419120579958,
          0.060122452676296234,
          0.05593337118625641,
          0.7252578735351562,
          0.006601528264582157,
          0.018201610073447227,
          0.05333985015749931,
          0.16033703088760376,
          0.7586728930473328,
          0.2099102884531021,
          0.004806480836123228,
          0.8531734943389893,
          0.8733246326446533,
          0.09973903000354767,
          0.686367928981781,
          0.005992545746266842,
          0.5255251526832581,
          0.08740390837192535,
          0.002300297375768423,
          0.8120375871658325,
          0.9701013565063477,
          0.8621273040771484,
          0.4379071891307831,
          0.13691043853759766,
          0.5219090580940247,
          0.37713703513145447,
          0.09788093715906143,
          0.00756648788228631,
          0.7874769568443298,
          0.0002963114529848099,
          0.0007496799807995558,
          0.003928114660084248,
          0.017505111172795296,
          0.13437333703041077,
          0.620407223701477,
          0.049981944262981415,
          0.7754203081130981,
          0.3123134970664978,
          0.11166151612997055,
          0.6297222971916199,
          0.8623611927032471,
          0.00009176749153994024,
          0.9612666964530945,
          0.7397483587265015,
          0.055504828691482544,
          0.29514339566230774,
          0.7209950685501099,
          0.0001443592191208154,
          0.6707431077957153,
          0.09101807326078415,
          0.49456343054771423,
          0.05963455140590668,
          0.8944447040557861,
          0.019720174372196198,
          0.37810954451560974,
          0.2967424690723419,
          0.009526025503873825,
          0.8146628737449646,
          0.8947103023529053,
          0.13755905628204346,
          0.15254992246627808,
          0.7261697053909302,
          0.017934301868081093,
          0.050249047577381134,
          0.5797140002250671,
          0.04223942756652832,
          0.0006181354983709753,
          0.7341963648796082,
          0.3404298722743988,
          0.0058061061426997185,
          0.28154656291007996,
          0.0021922376472502947,
          0.5655673742294312,
          0.001545411185361445,
          0.8162347674369812,
          0.09138727188110352,
          0.6050670742988586,
          0.027116479352116585,
          0.02055523544549942,
          0.3610941171646118,
          0.02049330063164234,
          0.012672990560531616,
          0.25058460235595703,
          0.0003410296340007335,
          0.04211220517754555,
          0.0029001282528042793,
          0.05378482863306999,
          0.11537688225507736,
          0.44566795229911804,
          0.0034255285281687975,
          0.041285913437604904,
          0.6018199324607849,
          0.8841277956962585,
          0.046823371201753616,
          0.014672959223389626,
          0.4013853073120117,
          0.08267929404973984,
          0.6512694954872131,
          0.7560937404632568,
          0.006115826778113842,
          0.044432222843170166,
          0.5713297724723816,
          0.07108084857463837,
          0.04951831325888634,
          0.7119210958480835,
          0.08497340977191925,
          0.0006966624059714377,
          0.3657917380332947,
          0.046183258295059204,
          0.3212806284427643,
          0.04962017759680748,
          0.0010360507294535637,
          0.39200663566589355,
          0.8364395499229431,
          0.040210697799921036,
          0.6215789914131165,
          0.8358127474784851,
          0.04982370883226395,
          0.00033340047230012715,
          0.08559728413820267,
          0.7100100517272949,
          0.023869946599006653,
          0.24302047491073608,
          0.7520521283149719,
          0.08904607594013214,
          0.028951283544301987,
          0.003067450597882271,
          0.29740679264068604,
          0.22186680138111115,
          0.5131973028182983,
          0.3364295959472656,
          0.004496928304433823,
          0.6557363271713257,
          0.017893455922603607,
          0.0017020254163071513,
          0.15726210176944733,
          0.0008990754140540957,
          0.47620466351509094,
          0.12751762568950653,
          0.05539841949939728,
          0.11209014803171158,
          0.027293048799037933,
          0.002616666490212083,
          0.01706288568675518,
          0.6687973141670227,
          0.17187367379665375,
          0.009557309560477734,
          0.0015742561081424356,
          0.7949299216270447,
          0.7899571657180786,
          0.7360152006149292,
          0.2690107524394989,
          0.05069376528263092,
          0.08067437261343002,
          0.5768170952796936,
          0.03533888980746269,
          0.5171869397163391,
          0.9266868233680725,
          0.051817215979099274,
          0.9763265252113342,
          0.42987683415412903,
          0.5822197198867798,
          0.42200183868408203,
          0.5864928960800171,
          0.34979015588760376,
          0.5558635592460632,
          0.09120205789804459,
          0.14095255732536316,
          0.0032840068452060223,
          0.871780276298523,
          0.0008121507125906646,
          0.3886524736881256,
          0.6441963911056519,
          0.11805647611618042,
          0.007589269895106554,
          0.007399864960461855,
          0.013447743840515614,
          0.2742060422897339,
          0.7909941077232361,
          0.10648823529481888,
          0.014893191866576672,
          0.19856971502304077,
          0.7740810513496399,
          0.10162213444709778,
          0.0006775502697564662,
          0.0852297767996788,
          0.0012348584132269025,
          0.9578115940093994,
          0.010248514823615551,
          0.02296900562942028,
          0.2446586787700653,
          0.009897246025502682,
          0.3683507442474365,
          0.2669951915740967,
          0.1643315702676773,
          0.025234505534172058,
          0.7929477691650391,
          0.0009701497619971633,
          0.07496684044599533,
          0.09812028706073761,
          0.9333772659301758,
          0.00766443507745862,
          0.6962122321128845,
          0.28011271357536316,
          0.9920194745063782,
          0.03978501260280609,
          0.5927854776382446,
          0.47201016545295715,
          0.2307819128036499,
          0.1352386623620987,
          0.0007746935007162392,
          0.1535046100616455,
          0.01595785655081272,
          0.3684610426425934,
          0.03452726826071739,
          0.0017251208191737533,
          0.24960948526859283,
          0.005366326775401831,
          0.2391141653060913,
          0.7546567320823669,
          0.7028321623802185,
          0.030966704711318016,
          0.00046971646952442825,
          0.00012124520435463637,
          0.30365708470344543,
          0.561659574508667,
          0.5830153822898865,
          0.05296429619193077,
          0.04382886737585068,
          0.001329760649241507,
          0.6176434755325317,
          0.12062592804431915,
          0.009561864659190178,
          0.001435589510947466,
          0.003660726360976696,
          0.003178445855155587,
          0.0008384789689444005,
          0.8174502849578857,
          0.01785380393266678,
          0.020652661100029945,
          0.0006532403640449047,
          0.0050526936538517475,
          0.6705413460731506,
          0.11298667639493942,
          0.002289986703544855,
          0.8795972466468811,
          0.8042618632316589,
          0.34061411023139954,
          0.16389228403568268,
          0.7760193943977356,
          0.09227581322193146,
          0.01113944873213768,
          0.8665446639060974,
          0.28786900639533997,
          0.42935678362846375,
          0.10519322752952576,
          0.00041920290095731616,
          0.000940317811910063,
          0.07021068781614304,
          0.25028014183044434,
          0.6433340907096863,
          0.20429037511348724,
          0.0649394765496254,
          0.008326662704348564,
          0.07355793565511703,
          0.034105490893125534,
          0.7079933285713196,
          0.12584997713565826,
          0.1715508997440338,
          0.9055442810058594,
          0.11406996101140976,
          0.28690001368522644,
          0.5278156399726868,
          0.026247482746839523,
          0.00014571272186003625,
          0.0030090471263974905,
          0.6003179550170898,
          0.8597812652587891,
          0.1915748566389084,
          0.879631757736206,
          0.5431287288665771,
          0.19609741866588593,
          0.01554778590798378,
          0.3088119924068451,
          0.7251428365707397,
          0.012972449883818626,
          0.8759394884109497,
          0.6322884559631348,
          0.3766745924949646,
          0.6243606209754944,
          0.011203664354979992,
          0.40760570764541626,
          0.0012723609106615186,
          0.05001148581504822,
          0.6210347414016724,
          0.21003293991088867,
          0.0013783356407657266,
          0.704978883266449,
          0.53818678855896,
          0.8132568597793579,
          0.11906179040670395,
          0.04337941110134125,
          0.4831615388393402,
          0.024026591330766678,
          0.016894420608878136,
          0.09378183633089066,
          0.034888993948698044,
          0.29877203702926636,
          0.27285879850387573,
          0.48842161893844604,
          0.004831347148865461,
          0.13966013491153717,
          0.017580779269337654,
          0.8327328562736511,
          0.01930239051580429,
          0.20653656125068665,
          0.17255042493343353,
          0.05670865252614021,
          0.42701512575149536,
          0.03471650555729866,
          0.019807202741503716,
          0.2604522109031677,
          0.3290545344352722,
          0.16812680661678314,
          0.391155868768692,
          0.31312644481658936,
          0.1217532530426979,
          0.011166384443640709,
          0.47671353816986084,
          0.032316457480192184,
          0.0013868416426703334,
          0.06285164505243301,
          0.0015270982403308153,
          0.3860868513584137,
          0.005904126912355423,
          0.02071511000394821,
          0.5459185242652893,
          0.26691827178001404,
          0.011655767448246479,
          0.009067355655133724,
          0.033363305032253265,
          0.009967506863176823,
          0.8409873843193054,
          0.43536826968193054,
          0.09753193706274033,
          0.42998188734054565,
          0.6412667632102966,
          0.353599488735199,
          0.012454620562493801,
          0.003515631891787052,
          0.46604326367378235,
          0.00019036557932849973,
          0.15363387763500214,
          0.005909419152885675,
          0.47437700629234314,
          0.0007801484898664057,
          0.019944822415709496,
          0.45442453026771545,
          0.6757584810256958,
          0.003542789490893483,
          0.0008213729597628117,
          0.23606443405151367,
          0.0005949047626927495,
          0.1339758187532425,
          0.23017126321792603,
          0.0048288279213011265,
          0.0006111800903454423,
          0.0008633951074443758,
          0.13338907063007355,
          0.00012724004045594484,
          0.02935231477022171,
          0.23333053290843964,
          0.14133965969085693,
          0.013973832130432129,
          0.4611690640449524,
          0.527064323425293,
          0.8699254989624023,
          0.0018865597667172551,
          0.28767433762550354,
          0.20520247519016266,
          0.058247387409210205,
          0.054462332278490067,
          0.00343525898642838,
          0.36138948798179626,
          0.019936632364988327,
          0.00021477713016793132,
          0.0008798832423053682,
          0.005771907977759838,
          0.6025874018669128,
          0.11893025785684586,
          0.0015415018424391747,
          0.8716723918914795,
          0.08202925324440002,
          0.5082414150238037,
          0.006381033919751644,
          0.0035265120677649975,
          0.3965936005115509,
          0.0017074088100343943,
          0.1880304217338562,
          0.345431387424469,
          0.07978054136037827,
          0.058632295578718185,
          0.02770358696579933,
          0.1859125941991806,
          0.0789150595664978,
          0.41835129261016846,
          0.9674808979034424,
          0.021884042769670486,
          0.7930139899253845,
          0.05369807779788971,
          0.6660685539245605,
          0.22421476244926453,
          0.234950453042984,
          0.0036349764559417963,
          0.6051467061042786,
          0.045487094670534134,
          0.31156814098358154,
          0.001458986778743565,
          0.02219926193356514,
          0.13020217418670654,
          0.15905308723449707,
          0.5813470482826233,
          0.0006224348326213658,
          0.04004131630063057,
          0.09070909768342972,
          0.008904408663511276,
          0.3042410910129547,
          0.06096176430583,
          0.6447686553001404,
          0.020602799952030182,
          0.12623244524002075,
          0.02550046518445015,
          0.008606229908764362,
          0.0038373416755348444,
          0.007811522111296654,
          0.6198872327804565,
          0.09024447947740555,
          0.40498191118240356,
          0.3369726538658142,
          0.0001037662077578716,
          0.2913661003112793,
          0.019358649849891663,
          0.5677440762519836,
          0.5478103756904602,
          0.47069448232650757,
          0.6332126259803772,
          0.49624085426330566,
          0.001713472418487072,
          0.03219829872250557,
          0.26008009910583496,
          0.0029845437966287136,
          0.00014350336277857423,
          0.2401416301727295,
          0.3386613726615906,
          0.0060094203799963,
          0.2429685890674591,
          0.09420094639062881,
          0.023070599883794785,
          0.003521140431985259,
          0.019656317308545113,
          0.15102806687355042,
          0.014129997231066227,
          0.600068986415863,
          0.3250174820423126,
          0.0006842000293545425,
          0.0008909340249374509,
          0.0023772460408508778,
          0.31722965836524963,
          0.02831169404089451,
          0.005434515420347452,
          0.25967103242874146,
          0.3039929270744324,
          0.00566615117713809,
          0.008028177544474602,
          0.6396920084953308,
          0.17974667251110077,
          0.2753341794013977,
          0.010662063956260681,
          0.23608897626399994,
          0.0022387304343283176,
          0.37059882283210754,
          0.020753910765051842,
          0.8009050488471985,
          0.8365457653999329,
          0.04050498455762863,
          0.020301630720496178,
          0.5919612050056458,
          0.019585425034165382,
          0.0012642574729397893,
          0.5421997308731079,
          0.47553637623786926,
          0.0017672795802354813,
          0.0005133271333761513,
          0.483131468296051,
          0.8297135233879089,
          0.030408568680286407,
          0.024669932201504707,
          0.014527132734656334,
          0.16411195695400238,
          0.0015748116420581937,
          0.19271890819072723,
          0.045576319098472595,
          0.9870100021362305,
          0.0010282137664034963,
          0.005659301765263081,
          0.0615486204624176,
          0.9518440365791321,
          0.030638108029961586,
          0.01604829914867878,
          0.8913406133651733,
          0.4222120940685272,
          0.3495215177536011,
          0.9045095443725586,
          0.3823539912700653,
          0.4015182554721832,
          0.0003558184835128486,
          0.28361454606056213,
          0.00950388889759779,
          0.4685360789299011,
          0.02303599752485752,
          0.012444442138075829,
          0.8173300623893738,
          0.0020505180582404137,
          0.42519494891166687,
          0.8698912858963013,
          0.02104218862950802,
          0.7791622281074524,
          0.8273261189460754,
          0.0004442215140443295,
          0.9620832800865173,
          0.033438730984926224,
          0.004767876584082842,
          0.7644487619400024,
          0.831081211566925,
          0.21915483474731445,
          0.12339190393686295,
          0.20080944895744324,
          0.614004909992218,
          0.006672906223684549,
          0.5530002117156982,
          0.0019866281654685736,
          0.8065654635429382,
          0.2898523807525635,
          0.4100187420845032,
          0.0035457198973745108,
          0.04611045867204666,
          0.15616047382354736,
          0.5951043963432312,
          0.008099243976175785,
          0.0014159927377477288,
          0.016597816720604897,
          0.7043983340263367,
          0.30492445826530457,
          0.0023056340869516134,
          0.0050173732452094555,
          0.49195677042007446,
          0.1275823712348938,
          0.5384531021118164,
          0.14163139462471008,
          0.9904192090034485,
          0.8902488946914673,
          0.00167344871442765,
          0.5029313564300537,
          0.0010852565756067634,
          0.13902920484542847,
          0.4995158910751343,
          0.0028198508080095053,
          0.9039520621299744,
          0.002398459939286113,
          0.6031623482704163,
          0.0008294591680169106,
          0.01239171251654625,
          0.0004704560851678252,
          0.0317399762570858,
          0.337300181388855,
          0.828518807888031,
          0.03227189555764198,
          0.8311336040496826,
          0.00016380641318392009,
          0.012041718699038029,
          0.15213465690612793,
          0.30492445826530457,
          0.017444994300603867,
          0.24359796941280365,
          0.9032962918281555,
          0.6487323641777039,
          0.36991915106773376,
          0.01869118958711624,
          0.28028449416160583,
          0.0033208332024514675,
          0.01523985993117094,
          0.5175309777259827,
          0.486077219247818,
          0.02883489802479744,
          0.0466892346739769,
          0.12355764210224152,
          0.0035492831375449896,
          0.102707639336586,
          0.019184650853276253,
          0.10544702410697937,
          0.22229179739952087,
          0.1494642049074173,
          0.3458610773086548,
          0.02317589707672596,
          0.00041026968392543495,
          0.8643133640289307,
          0.17764469981193542,
          0.8288050889968872,
          0.12113378942012787,
          0.8289472460746765,
          0.5334859490394592,
          0.004179075360298157,
          0.8215767741203308,
          0.0015515803825110197,
          0.17986153066158295,
          0.031552884727716446,
          0.002463084412738681,
          0.021272296085953712,
          0.47389858961105347,
          0.06464799493551254,
          0.4354315400123596,
          0.0013280154671519995,
          0.0028812261298298836,
          0.07301703840494156,
          0.1758037507534027,
          0.00646407762542367,
          0.052212994545698166,
          0.039925433695316315,
          0.23809832334518433,
          0.05494089424610138,
          0.0032172701321542263,
          0.0008610196528024971,
          0.003080458613112569,
          0.0058137523010373116,
          0.9712542295455933,
          0.32930049300193787,
          0.06406015902757645,
          0.0020835576578974724,
          0.0011079446412622929,
          0.02077924832701683,
          0.6747099161148071,
          0.006404103245586157
         ],
         "xaxis": "x",
         "yaxis": "y"
        }
       ],
       "layout": {
        "barmode": "relative",
        "legend": {
         "tracegroupgap": 0
        },
        "template": {
         "data": {
          "bar": [
           {
            "error_x": {
             "color": "#2a3f5f"
            },
            "error_y": {
             "color": "#2a3f5f"
            },
            "marker": {
             "line": {
              "color": "#E5ECF6",
              "width": 0.5
             },
             "pattern": {
              "fillmode": "overlay",
              "size": 10,
              "solidity": 0.2
             }
            },
            "type": "bar"
           }
          ],
          "barpolar": [
           {
            "marker": {
             "line": {
              "color": "#E5ECF6",
              "width": 0.5
             },
             "pattern": {
              "fillmode": "overlay",
              "size": 10,
              "solidity": 0.2
             }
            },
            "type": "barpolar"
           }
          ],
          "carpet": [
           {
            "aaxis": {
             "endlinecolor": "#2a3f5f",
             "gridcolor": "white",
             "linecolor": "white",
             "minorgridcolor": "white",
             "startlinecolor": "#2a3f5f"
            },
            "baxis": {
             "endlinecolor": "#2a3f5f",
             "gridcolor": "white",
             "linecolor": "white",
             "minorgridcolor": "white",
             "startlinecolor": "#2a3f5f"
            },
            "type": "carpet"
           }
          ],
          "choropleth": [
           {
            "colorbar": {
             "outlinewidth": 0,
             "ticks": ""
            },
            "type": "choropleth"
           }
          ],
          "contour": [
           {
            "colorbar": {
             "outlinewidth": 0,
             "ticks": ""
            },
            "colorscale": [
             [
              0,
              "#0d0887"
             ],
             [
              0.1111111111111111,
              "#46039f"
             ],
             [
              0.2222222222222222,
              "#7201a8"
             ],
             [
              0.3333333333333333,
              "#9c179e"
             ],
             [
              0.4444444444444444,
              "#bd3786"
             ],
             [
              0.5555555555555556,
              "#d8576b"
             ],
             [
              0.6666666666666666,
              "#ed7953"
             ],
             [
              0.7777777777777778,
              "#fb9f3a"
             ],
             [
              0.8888888888888888,
              "#fdca26"
             ],
             [
              1,
              "#f0f921"
             ]
            ],
            "type": "contour"
           }
          ],
          "contourcarpet": [
           {
            "colorbar": {
             "outlinewidth": 0,
             "ticks": ""
            },
            "type": "contourcarpet"
           }
          ],
          "heatmap": [
           {
            "colorbar": {
             "outlinewidth": 0,
             "ticks": ""
            },
            "colorscale": [
             [
              0,
              "#0d0887"
             ],
             [
              0.1111111111111111,
              "#46039f"
             ],
             [
              0.2222222222222222,
              "#7201a8"
             ],
             [
              0.3333333333333333,
              "#9c179e"
             ],
             [
              0.4444444444444444,
              "#bd3786"
             ],
             [
              0.5555555555555556,
              "#d8576b"
             ],
             [
              0.6666666666666666,
              "#ed7953"
             ],
             [
              0.7777777777777778,
              "#fb9f3a"
             ],
             [
              0.8888888888888888,
              "#fdca26"
             ],
             [
              1,
              "#f0f921"
             ]
            ],
            "type": "heatmap"
           }
          ],
          "heatmapgl": [
           {
            "colorbar": {
             "outlinewidth": 0,
             "ticks": ""
            },
            "colorscale": [
             [
              0,
              "#0d0887"
             ],
             [
              0.1111111111111111,
              "#46039f"
             ],
             [
              0.2222222222222222,
              "#7201a8"
             ],
             [
              0.3333333333333333,
              "#9c179e"
             ],
             [
              0.4444444444444444,
              "#bd3786"
             ],
             [
              0.5555555555555556,
              "#d8576b"
             ],
             [
              0.6666666666666666,
              "#ed7953"
             ],
             [
              0.7777777777777778,
              "#fb9f3a"
             ],
             [
              0.8888888888888888,
              "#fdca26"
             ],
             [
              1,
              "#f0f921"
             ]
            ],
            "type": "heatmapgl"
           }
          ],
          "histogram": [
           {
            "marker": {
             "pattern": {
              "fillmode": "overlay",
              "size": 10,
              "solidity": 0.2
             }
            },
            "type": "histogram"
           }
          ],
          "histogram2d": [
           {
            "colorbar": {
             "outlinewidth": 0,
             "ticks": ""
            },
            "colorscale": [
             [
              0,
              "#0d0887"
             ],
             [
              0.1111111111111111,
              "#46039f"
             ],
             [
              0.2222222222222222,
              "#7201a8"
             ],
             [
              0.3333333333333333,
              "#9c179e"
             ],
             [
              0.4444444444444444,
              "#bd3786"
             ],
             [
              0.5555555555555556,
              "#d8576b"
             ],
             [
              0.6666666666666666,
              "#ed7953"
             ],
             [
              0.7777777777777778,
              "#fb9f3a"
             ],
             [
              0.8888888888888888,
              "#fdca26"
             ],
             [
              1,
              "#f0f921"
             ]
            ],
            "type": "histogram2d"
           }
          ],
          "histogram2dcontour": [
           {
            "colorbar": {
             "outlinewidth": 0,
             "ticks": ""
            },
            "colorscale": [
             [
              0,
              "#0d0887"
             ],
             [
              0.1111111111111111,
              "#46039f"
             ],
             [
              0.2222222222222222,
              "#7201a8"
             ],
             [
              0.3333333333333333,
              "#9c179e"
             ],
             [
              0.4444444444444444,
              "#bd3786"
             ],
             [
              0.5555555555555556,
              "#d8576b"
             ],
             [
              0.6666666666666666,
              "#ed7953"
             ],
             [
              0.7777777777777778,
              "#fb9f3a"
             ],
             [
              0.8888888888888888,
              "#fdca26"
             ],
             [
              1,
              "#f0f921"
             ]
            ],
            "type": "histogram2dcontour"
           }
          ],
          "mesh3d": [
           {
            "colorbar": {
             "outlinewidth": 0,
             "ticks": ""
            },
            "type": "mesh3d"
           }
          ],
          "parcoords": [
           {
            "line": {
             "colorbar": {
              "outlinewidth": 0,
              "ticks": ""
             }
            },
            "type": "parcoords"
           }
          ],
          "pie": [
           {
            "automargin": true,
            "type": "pie"
           }
          ],
          "scatter": [
           {
            "fillpattern": {
             "fillmode": "overlay",
             "size": 10,
             "solidity": 0.2
            },
            "type": "scatter"
           }
          ],
          "scatter3d": [
           {
            "line": {
             "colorbar": {
              "outlinewidth": 0,
              "ticks": ""
             }
            },
            "marker": {
             "colorbar": {
              "outlinewidth": 0,
              "ticks": ""
             }
            },
            "type": "scatter3d"
           }
          ],
          "scattercarpet": [
           {
            "marker": {
             "colorbar": {
              "outlinewidth": 0,
              "ticks": ""
             }
            },
            "type": "scattercarpet"
           }
          ],
          "scattergeo": [
           {
            "marker": {
             "colorbar": {
              "outlinewidth": 0,
              "ticks": ""
             }
            },
            "type": "scattergeo"
           }
          ],
          "scattergl": [
           {
            "marker": {
             "colorbar": {
              "outlinewidth": 0,
              "ticks": ""
             }
            },
            "type": "scattergl"
           }
          ],
          "scattermapbox": [
           {
            "marker": {
             "colorbar": {
              "outlinewidth": 0,
              "ticks": ""
             }
            },
            "type": "scattermapbox"
           }
          ],
          "scatterpolar": [
           {
            "marker": {
             "colorbar": {
              "outlinewidth": 0,
              "ticks": ""
             }
            },
            "type": "scatterpolar"
           }
          ],
          "scatterpolargl": [
           {
            "marker": {
             "colorbar": {
              "outlinewidth": 0,
              "ticks": ""
             }
            },
            "type": "scatterpolargl"
           }
          ],
          "scatterternary": [
           {
            "marker": {
             "colorbar": {
              "outlinewidth": 0,
              "ticks": ""
             }
            },
            "type": "scatterternary"
           }
          ],
          "surface": [
           {
            "colorbar": {
             "outlinewidth": 0,
             "ticks": ""
            },
            "colorscale": [
             [
              0,
              "#0d0887"
             ],
             [
              0.1111111111111111,
              "#46039f"
             ],
             [
              0.2222222222222222,
              "#7201a8"
             ],
             [
              0.3333333333333333,
              "#9c179e"
             ],
             [
              0.4444444444444444,
              "#bd3786"
             ],
             [
              0.5555555555555556,
              "#d8576b"
             ],
             [
              0.6666666666666666,
              "#ed7953"
             ],
             [
              0.7777777777777778,
              "#fb9f3a"
             ],
             [
              0.8888888888888888,
              "#fdca26"
             ],
             [
              1,
              "#f0f921"
             ]
            ],
            "type": "surface"
           }
          ],
          "table": [
           {
            "cells": {
             "fill": {
              "color": "#EBF0F8"
             },
             "line": {
              "color": "white"
             }
            },
            "header": {
             "fill": {
              "color": "#C8D4E3"
             },
             "line": {
              "color": "white"
             }
            },
            "type": "table"
           }
          ]
         },
         "layout": {
          "annotationdefaults": {
           "arrowcolor": "#2a3f5f",
           "arrowhead": 0,
           "arrowwidth": 1
          },
          "autotypenumbers": "strict",
          "coloraxis": {
           "colorbar": {
            "outlinewidth": 0,
            "ticks": ""
           }
          },
          "colorscale": {
           "diverging": [
            [
             0,
             "#8e0152"
            ],
            [
             0.1,
             "#c51b7d"
            ],
            [
             0.2,
             "#de77ae"
            ],
            [
             0.3,
             "#f1b6da"
            ],
            [
             0.4,
             "#fde0ef"
            ],
            [
             0.5,
             "#f7f7f7"
            ],
            [
             0.6,
             "#e6f5d0"
            ],
            [
             0.7,
             "#b8e186"
            ],
            [
             0.8,
             "#7fbc41"
            ],
            [
             0.9,
             "#4d9221"
            ],
            [
             1,
             "#276419"
            ]
           ],
           "sequential": [
            [
             0,
             "#0d0887"
            ],
            [
             0.1111111111111111,
             "#46039f"
            ],
            [
             0.2222222222222222,
             "#7201a8"
            ],
            [
             0.3333333333333333,
             "#9c179e"
            ],
            [
             0.4444444444444444,
             "#bd3786"
            ],
            [
             0.5555555555555556,
             "#d8576b"
            ],
            [
             0.6666666666666666,
             "#ed7953"
            ],
            [
             0.7777777777777778,
             "#fb9f3a"
            ],
            [
             0.8888888888888888,
             "#fdca26"
            ],
            [
             1,
             "#f0f921"
            ]
           ],
           "sequentialminus": [
            [
             0,
             "#0d0887"
            ],
            [
             0.1111111111111111,
             "#46039f"
            ],
            [
             0.2222222222222222,
             "#7201a8"
            ],
            [
             0.3333333333333333,
             "#9c179e"
            ],
            [
             0.4444444444444444,
             "#bd3786"
            ],
            [
             0.5555555555555556,
             "#d8576b"
            ],
            [
             0.6666666666666666,
             "#ed7953"
            ],
            [
             0.7777777777777778,
             "#fb9f3a"
            ],
            [
             0.8888888888888888,
             "#fdca26"
            ],
            [
             1,
             "#f0f921"
            ]
           ]
          },
          "colorway": [
           "#636efa",
           "#EF553B",
           "#00cc96",
           "#ab63fa",
           "#FFA15A",
           "#19d3f3",
           "#FF6692",
           "#B6E880",
           "#FF97FF",
           "#FECB52"
          ],
          "font": {
           "color": "#2a3f5f"
          },
          "geo": {
           "bgcolor": "white",
           "lakecolor": "white",
           "landcolor": "#E5ECF6",
           "showlakes": true,
           "showland": true,
           "subunitcolor": "white"
          },
          "hoverlabel": {
           "align": "left"
          },
          "hovermode": "closest",
          "mapbox": {
           "style": "light"
          },
          "paper_bgcolor": "white",
          "plot_bgcolor": "#E5ECF6",
          "polar": {
           "angularaxis": {
            "gridcolor": "white",
            "linecolor": "white",
            "ticks": ""
           },
           "bgcolor": "#E5ECF6",
           "radialaxis": {
            "gridcolor": "white",
            "linecolor": "white",
            "ticks": ""
           }
          },
          "scene": {
           "xaxis": {
            "backgroundcolor": "#E5ECF6",
            "gridcolor": "white",
            "gridwidth": 2,
            "linecolor": "white",
            "showbackground": true,
            "ticks": "",
            "zerolinecolor": "white"
           },
           "yaxis": {
            "backgroundcolor": "#E5ECF6",
            "gridcolor": "white",
            "gridwidth": 2,
            "linecolor": "white",
            "showbackground": true,
            "ticks": "",
            "zerolinecolor": "white"
           },
           "zaxis": {
            "backgroundcolor": "#E5ECF6",
            "gridcolor": "white",
            "gridwidth": 2,
            "linecolor": "white",
            "showbackground": true,
            "ticks": "",
            "zerolinecolor": "white"
           }
          },
          "shapedefaults": {
           "line": {
            "color": "#2a3f5f"
           }
          },
          "ternary": {
           "aaxis": {
            "gridcolor": "white",
            "linecolor": "white",
            "ticks": ""
           },
           "baxis": {
            "gridcolor": "white",
            "linecolor": "white",
            "ticks": ""
           },
           "bgcolor": "#E5ECF6",
           "caxis": {
            "gridcolor": "white",
            "linecolor": "white",
            "ticks": ""
           }
          },
          "title": {
           "x": 0.05
          },
          "xaxis": {
           "automargin": true,
           "gridcolor": "white",
           "linecolor": "white",
           "ticks": "",
           "title": {
            "standoff": 15
           },
           "zerolinecolor": "white",
           "zerolinewidth": 2
          },
          "yaxis": {
           "automargin": true,
           "gridcolor": "white",
           "linecolor": "white",
           "ticks": "",
           "title": {
            "standoff": 15
           },
           "zerolinecolor": "white",
           "zerolinewidth": 2
          }
         }
        },
        "title": {
         "text": "Distribuição da Probabilidade de Churn"
        },
        "xaxis": {
         "anchor": "y",
         "domain": [
          0,
          1
         ],
         "title": {
          "text": "Churn_Probability"
         }
        },
        "yaxis": {
         "anchor": "x",
         "domain": [
          0,
          1
         ],
         "title": {
          "text": "count"
         }
        }
       }
      }
     },
     "metadata": {},
     "output_type": "display_data"
    }
   ],
   "source": [
    "fig = px.histogram(df_pred, x='Churn_Probability', nbins=50, title='Distribuição da Probabilidade de Churn')\n",
    "fig.show()"
   ]
  },
  {
   "cell_type": "markdown",
   "id": "66d7029d",
   "metadata": {},
   "source": [
    "#### Clientes por Faixa de Risco"
   ]
  },
  {
   "cell_type": "code",
   "execution_count": null,
   "id": "7271593d",
   "metadata": {},
   "outputs": [
    {
     "data": {
      "application/vnd.plotly.v1+json": {
       "config": {
        "plotlyServerURL": "https://plot.ly"
       },
       "data": [
        {
         "alignmentgroup": "True",
         "hovertemplate": "Risk_Level=%{x}<br>Count=%{y}<extra></extra>",
         "legendgroup": "",
         "marker": {
          "color": "#636efa",
          "pattern": {
           "shape": ""
          }
         },
         "name": "",
         "offsetgroup": "",
         "orientation": "v",
         "showlegend": false,
         "textposition": "auto",
         "type": "bar",
         "x": [
          "Muito Baixo",
          "Baixo",
          "Médio",
          "Alto",
          "Muito Alto"
         ],
         "xaxis": "x",
         "y": [
          1237,
          281,
          236,
          187,
          172
         ],
         "yaxis": "y"
        }
       ],
       "layout": {
        "barmode": "relative",
        "legend": {
         "tracegroupgap": 0
        },
        "template": {
         "data": {
          "bar": [
           {
            "error_x": {
             "color": "#2a3f5f"
            },
            "error_y": {
             "color": "#2a3f5f"
            },
            "marker": {
             "line": {
              "color": "#E5ECF6",
              "width": 0.5
             },
             "pattern": {
              "fillmode": "overlay",
              "size": 10,
              "solidity": 0.2
             }
            },
            "type": "bar"
           }
          ],
          "barpolar": [
           {
            "marker": {
             "line": {
              "color": "#E5ECF6",
              "width": 0.5
             },
             "pattern": {
              "fillmode": "overlay",
              "size": 10,
              "solidity": 0.2
             }
            },
            "type": "barpolar"
           }
          ],
          "carpet": [
           {
            "aaxis": {
             "endlinecolor": "#2a3f5f",
             "gridcolor": "white",
             "linecolor": "white",
             "minorgridcolor": "white",
             "startlinecolor": "#2a3f5f"
            },
            "baxis": {
             "endlinecolor": "#2a3f5f",
             "gridcolor": "white",
             "linecolor": "white",
             "minorgridcolor": "white",
             "startlinecolor": "#2a3f5f"
            },
            "type": "carpet"
           }
          ],
          "choropleth": [
           {
            "colorbar": {
             "outlinewidth": 0,
             "ticks": ""
            },
            "type": "choropleth"
           }
          ],
          "contour": [
           {
            "colorbar": {
             "outlinewidth": 0,
             "ticks": ""
            },
            "colorscale": [
             [
              0,
              "#0d0887"
             ],
             [
              0.1111111111111111,
              "#46039f"
             ],
             [
              0.2222222222222222,
              "#7201a8"
             ],
             [
              0.3333333333333333,
              "#9c179e"
             ],
             [
              0.4444444444444444,
              "#bd3786"
             ],
             [
              0.5555555555555556,
              "#d8576b"
             ],
             [
              0.6666666666666666,
              "#ed7953"
             ],
             [
              0.7777777777777778,
              "#fb9f3a"
             ],
             [
              0.8888888888888888,
              "#fdca26"
             ],
             [
              1,
              "#f0f921"
             ]
            ],
            "type": "contour"
           }
          ],
          "contourcarpet": [
           {
            "colorbar": {
             "outlinewidth": 0,
             "ticks": ""
            },
            "type": "contourcarpet"
           }
          ],
          "heatmap": [
           {
            "colorbar": {
             "outlinewidth": 0,
             "ticks": ""
            },
            "colorscale": [
             [
              0,
              "#0d0887"
             ],
             [
              0.1111111111111111,
              "#46039f"
             ],
             [
              0.2222222222222222,
              "#7201a8"
             ],
             [
              0.3333333333333333,
              "#9c179e"
             ],
             [
              0.4444444444444444,
              "#bd3786"
             ],
             [
              0.5555555555555556,
              "#d8576b"
             ],
             [
              0.6666666666666666,
              "#ed7953"
             ],
             [
              0.7777777777777778,
              "#fb9f3a"
             ],
             [
              0.8888888888888888,
              "#fdca26"
             ],
             [
              1,
              "#f0f921"
             ]
            ],
            "type": "heatmap"
           }
          ],
          "heatmapgl": [
           {
            "colorbar": {
             "outlinewidth": 0,
             "ticks": ""
            },
            "colorscale": [
             [
              0,
              "#0d0887"
             ],
             [
              0.1111111111111111,
              "#46039f"
             ],
             [
              0.2222222222222222,
              "#7201a8"
             ],
             [
              0.3333333333333333,
              "#9c179e"
             ],
             [
              0.4444444444444444,
              "#bd3786"
             ],
             [
              0.5555555555555556,
              "#d8576b"
             ],
             [
              0.6666666666666666,
              "#ed7953"
             ],
             [
              0.7777777777777778,
              "#fb9f3a"
             ],
             [
              0.8888888888888888,
              "#fdca26"
             ],
             [
              1,
              "#f0f921"
             ]
            ],
            "type": "heatmapgl"
           }
          ],
          "histogram": [
           {
            "marker": {
             "pattern": {
              "fillmode": "overlay",
              "size": 10,
              "solidity": 0.2
             }
            },
            "type": "histogram"
           }
          ],
          "histogram2d": [
           {
            "colorbar": {
             "outlinewidth": 0,
             "ticks": ""
            },
            "colorscale": [
             [
              0,
              "#0d0887"
             ],
             [
              0.1111111111111111,
              "#46039f"
             ],
             [
              0.2222222222222222,
              "#7201a8"
             ],
             [
              0.3333333333333333,
              "#9c179e"
             ],
             [
              0.4444444444444444,
              "#bd3786"
             ],
             [
              0.5555555555555556,
              "#d8576b"
             ],
             [
              0.6666666666666666,
              "#ed7953"
             ],
             [
              0.7777777777777778,
              "#fb9f3a"
             ],
             [
              0.8888888888888888,
              "#fdca26"
             ],
             [
              1,
              "#f0f921"
             ]
            ],
            "type": "histogram2d"
           }
          ],
          "histogram2dcontour": [
           {
            "colorbar": {
             "outlinewidth": 0,
             "ticks": ""
            },
            "colorscale": [
             [
              0,
              "#0d0887"
             ],
             [
              0.1111111111111111,
              "#46039f"
             ],
             [
              0.2222222222222222,
              "#7201a8"
             ],
             [
              0.3333333333333333,
              "#9c179e"
             ],
             [
              0.4444444444444444,
              "#bd3786"
             ],
             [
              0.5555555555555556,
              "#d8576b"
             ],
             [
              0.6666666666666666,
              "#ed7953"
             ],
             [
              0.7777777777777778,
              "#fb9f3a"
             ],
             [
              0.8888888888888888,
              "#fdca26"
             ],
             [
              1,
              "#f0f921"
             ]
            ],
            "type": "histogram2dcontour"
           }
          ],
          "mesh3d": [
           {
            "colorbar": {
             "outlinewidth": 0,
             "ticks": ""
            },
            "type": "mesh3d"
           }
          ],
          "parcoords": [
           {
            "line": {
             "colorbar": {
              "outlinewidth": 0,
              "ticks": ""
             }
            },
            "type": "parcoords"
           }
          ],
          "pie": [
           {
            "automargin": true,
            "type": "pie"
           }
          ],
          "scatter": [
           {
            "fillpattern": {
             "fillmode": "overlay",
             "size": 10,
             "solidity": 0.2
            },
            "type": "scatter"
           }
          ],
          "scatter3d": [
           {
            "line": {
             "colorbar": {
              "outlinewidth": 0,
              "ticks": ""
             }
            },
            "marker": {
             "colorbar": {
              "outlinewidth": 0,
              "ticks": ""
             }
            },
            "type": "scatter3d"
           }
          ],
          "scattercarpet": [
           {
            "marker": {
             "colorbar": {
              "outlinewidth": 0,
              "ticks": ""
             }
            },
            "type": "scattercarpet"
           }
          ],
          "scattergeo": [
           {
            "marker": {
             "colorbar": {
              "outlinewidth": 0,
              "ticks": ""
             }
            },
            "type": "scattergeo"
           }
          ],
          "scattergl": [
           {
            "marker": {
             "colorbar": {
              "outlinewidth": 0,
              "ticks": ""
             }
            },
            "type": "scattergl"
           }
          ],
          "scattermapbox": [
           {
            "marker": {
             "colorbar": {
              "outlinewidth": 0,
              "ticks": ""
             }
            },
            "type": "scattermapbox"
           }
          ],
          "scatterpolar": [
           {
            "marker": {
             "colorbar": {
              "outlinewidth": 0,
              "ticks": ""
             }
            },
            "type": "scatterpolar"
           }
          ],
          "scatterpolargl": [
           {
            "marker": {
             "colorbar": {
              "outlinewidth": 0,
              "ticks": ""
             }
            },
            "type": "scatterpolargl"
           }
          ],
          "scatterternary": [
           {
            "marker": {
             "colorbar": {
              "outlinewidth": 0,
              "ticks": ""
             }
            },
            "type": "scatterternary"
           }
          ],
          "surface": [
           {
            "colorbar": {
             "outlinewidth": 0,
             "ticks": ""
            },
            "colorscale": [
             [
              0,
              "#0d0887"
             ],
             [
              0.1111111111111111,
              "#46039f"
             ],
             [
              0.2222222222222222,
              "#7201a8"
             ],
             [
              0.3333333333333333,
              "#9c179e"
             ],
             [
              0.4444444444444444,
              "#bd3786"
             ],
             [
              0.5555555555555556,
              "#d8576b"
             ],
             [
              0.6666666666666666,
              "#ed7953"
             ],
             [
              0.7777777777777778,
              "#fb9f3a"
             ],
             [
              0.8888888888888888,
              "#fdca26"
             ],
             [
              1,
              "#f0f921"
             ]
            ],
            "type": "surface"
           }
          ],
          "table": [
           {
            "cells": {
             "fill": {
              "color": "#EBF0F8"
             },
             "line": {
              "color": "white"
             }
            },
            "header": {
             "fill": {
              "color": "#C8D4E3"
             },
             "line": {
              "color": "white"
             }
            },
            "type": "table"
           }
          ]
         },
         "layout": {
          "annotationdefaults": {
           "arrowcolor": "#2a3f5f",
           "arrowhead": 0,
           "arrowwidth": 1
          },
          "autotypenumbers": "strict",
          "coloraxis": {
           "colorbar": {
            "outlinewidth": 0,
            "ticks": ""
           }
          },
          "colorscale": {
           "diverging": [
            [
             0,
             "#8e0152"
            ],
            [
             0.1,
             "#c51b7d"
            ],
            [
             0.2,
             "#de77ae"
            ],
            [
             0.3,
             "#f1b6da"
            ],
            [
             0.4,
             "#fde0ef"
            ],
            [
             0.5,
             "#f7f7f7"
            ],
            [
             0.6,
             "#e6f5d0"
            ],
            [
             0.7,
             "#b8e186"
            ],
            [
             0.8,
             "#7fbc41"
            ],
            [
             0.9,
             "#4d9221"
            ],
            [
             1,
             "#276419"
            ]
           ],
           "sequential": [
            [
             0,
             "#0d0887"
            ],
            [
             0.1111111111111111,
             "#46039f"
            ],
            [
             0.2222222222222222,
             "#7201a8"
            ],
            [
             0.3333333333333333,
             "#9c179e"
            ],
            [
             0.4444444444444444,
             "#bd3786"
            ],
            [
             0.5555555555555556,
             "#d8576b"
            ],
            [
             0.6666666666666666,
             "#ed7953"
            ],
            [
             0.7777777777777778,
             "#fb9f3a"
            ],
            [
             0.8888888888888888,
             "#fdca26"
            ],
            [
             1,
             "#f0f921"
            ]
           ],
           "sequentialminus": [
            [
             0,
             "#0d0887"
            ],
            [
             0.1111111111111111,
             "#46039f"
            ],
            [
             0.2222222222222222,
             "#7201a8"
            ],
            [
             0.3333333333333333,
             "#9c179e"
            ],
            [
             0.4444444444444444,
             "#bd3786"
            ],
            [
             0.5555555555555556,
             "#d8576b"
            ],
            [
             0.6666666666666666,
             "#ed7953"
            ],
            [
             0.7777777777777778,
             "#fb9f3a"
            ],
            [
             0.8888888888888888,
             "#fdca26"
            ],
            [
             1,
             "#f0f921"
            ]
           ]
          },
          "colorway": [
           "#636efa",
           "#EF553B",
           "#00cc96",
           "#ab63fa",
           "#FFA15A",
           "#19d3f3",
           "#FF6692",
           "#B6E880",
           "#FF97FF",
           "#FECB52"
          ],
          "font": {
           "color": "#2a3f5f"
          },
          "geo": {
           "bgcolor": "white",
           "lakecolor": "white",
           "landcolor": "#E5ECF6",
           "showlakes": true,
           "showland": true,
           "subunitcolor": "white"
          },
          "hoverlabel": {
           "align": "left"
          },
          "hovermode": "closest",
          "mapbox": {
           "style": "light"
          },
          "paper_bgcolor": "white",
          "plot_bgcolor": "#E5ECF6",
          "polar": {
           "angularaxis": {
            "gridcolor": "white",
            "linecolor": "white",
            "ticks": ""
           },
           "bgcolor": "#E5ECF6",
           "radialaxis": {
            "gridcolor": "white",
            "linecolor": "white",
            "ticks": ""
           }
          },
          "scene": {
           "xaxis": {
            "backgroundcolor": "#E5ECF6",
            "gridcolor": "white",
            "gridwidth": 2,
            "linecolor": "white",
            "showbackground": true,
            "ticks": "",
            "zerolinecolor": "white"
           },
           "yaxis": {
            "backgroundcolor": "#E5ECF6",
            "gridcolor": "white",
            "gridwidth": 2,
            "linecolor": "white",
            "showbackground": true,
            "ticks": "",
            "zerolinecolor": "white"
           },
           "zaxis": {
            "backgroundcolor": "#E5ECF6",
            "gridcolor": "white",
            "gridwidth": 2,
            "linecolor": "white",
            "showbackground": true,
            "ticks": "",
            "zerolinecolor": "white"
           }
          },
          "shapedefaults": {
           "line": {
            "color": "#2a3f5f"
           }
          },
          "ternary": {
           "aaxis": {
            "gridcolor": "white",
            "linecolor": "white",
            "ticks": ""
           },
           "baxis": {
            "gridcolor": "white",
            "linecolor": "white",
            "ticks": ""
           },
           "bgcolor": "#E5ECF6",
           "caxis": {
            "gridcolor": "white",
            "linecolor": "white",
            "ticks": ""
           }
          },
          "title": {
           "x": 0.05
          },
          "xaxis": {
           "automargin": true,
           "gridcolor": "white",
           "linecolor": "white",
           "ticks": "",
           "title": {
            "standoff": 15
           },
           "zerolinecolor": "white",
           "zerolinewidth": 2
          },
          "yaxis": {
           "automargin": true,
           "gridcolor": "white",
           "linecolor": "white",
           "ticks": "",
           "title": {
            "standoff": 15
           },
           "zerolinecolor": "white",
           "zerolinewidth": 2
          }
         }
        },
        "title": {
         "text": "Clientes por Nível de Risco"
        },
        "xaxis": {
         "anchor": "y",
         "categoryarray": [
          "Muito Baixo",
          "Baixo",
          "Médio",
          "Alto",
          "Muito Alto"
         ],
         "categoryorder": "array",
         "domain": [
          0,
          1
         ],
         "title": {
          "text": "Risk_Level"
         }
        },
        "yaxis": {
         "anchor": "x",
         "domain": [
          0,
          1
         ],
         "title": {
          "text": "Count"
         }
        }
       }
      }
     },
     "metadata": {},
     "output_type": "display_data"
    }
   ],
   "source": [
    "#Definindo as faixas de risco\n",
    "bins = [0, 0.2, 0.4, 0.6, 0.8, 1.0]\n",
    "labels = ['Muito Baixo', 'Baixo', 'Médio', 'Alto', 'Muito Alto']\n",
    "df_pred['Risk_Level'] = pd.cut(df_pred['Churn_Probability'], bins=bins, labels=labels)\n",
    "\n",
    "risk_counts = df_pred['Risk_Level'].value_counts().reset_index()\n",
    "risk_counts.columns = ['Risk_Level', 'Count']\n",
    "\n",
    "fig = px.bar(risk_counts, x='Risk_Level', y='Count', title='Clientes por Nível de Risco')\n",
    "fig.update_xaxes(categoryorder=\"array\", categoryarray=labels)\n",
    "fig.show()"
   ]
  },
  {
   "cell_type": "markdown",
   "id": "ba784af9",
   "metadata": {},
   "source": [
    "#### Total de Churn Previsto nos Próximos Meses"
   ]
  },
  {
   "cell_type": "code",
   "execution_count": 8,
   "id": "1ebd301b",
   "metadata": {},
   "outputs": [
    {
     "data": {
      "application/vnd.plotly.v1+json": {
       "config": {
        "plotlyServerURL": "https://plot.ly"
       },
       "data": [
        {
         "hovertemplate": "Month=%{x}<br>Predicted_Churns=%{y}<extra></extra>",
         "legendgroup": "",
         "line": {
          "color": "#636efa",
          "dash": "solid"
         },
         "marker": {
          "symbol": "circle"
         },
         "mode": "lines+markers",
         "name": "",
         "orientation": "v",
         "showlegend": false,
         "type": "scatter",
         "x": [
          1,
          2,
          3,
          4,
          5,
          6
         ],
         "xaxis": "x",
         "y": [
          230.47,
          139.5063,
          94.545087,
          70.36774863000001,
          56.1305607687,
          46.993407292263
         ],
         "yaxis": "y"
        }
       ],
       "layout": {
        "legend": {
         "tracegroupgap": 0
        },
        "template": {
         "data": {
          "bar": [
           {
            "error_x": {
             "color": "#2a3f5f"
            },
            "error_y": {
             "color": "#2a3f5f"
            },
            "marker": {
             "line": {
              "color": "#E5ECF6",
              "width": 0.5
             },
             "pattern": {
              "fillmode": "overlay",
              "size": 10,
              "solidity": 0.2
             }
            },
            "type": "bar"
           }
          ],
          "barpolar": [
           {
            "marker": {
             "line": {
              "color": "#E5ECF6",
              "width": 0.5
             },
             "pattern": {
              "fillmode": "overlay",
              "size": 10,
              "solidity": 0.2
             }
            },
            "type": "barpolar"
           }
          ],
          "carpet": [
           {
            "aaxis": {
             "endlinecolor": "#2a3f5f",
             "gridcolor": "white",
             "linecolor": "white",
             "minorgridcolor": "white",
             "startlinecolor": "#2a3f5f"
            },
            "baxis": {
             "endlinecolor": "#2a3f5f",
             "gridcolor": "white",
             "linecolor": "white",
             "minorgridcolor": "white",
             "startlinecolor": "#2a3f5f"
            },
            "type": "carpet"
           }
          ],
          "choropleth": [
           {
            "colorbar": {
             "outlinewidth": 0,
             "ticks": ""
            },
            "type": "choropleth"
           }
          ],
          "contour": [
           {
            "colorbar": {
             "outlinewidth": 0,
             "ticks": ""
            },
            "colorscale": [
             [
              0,
              "#0d0887"
             ],
             [
              0.1111111111111111,
              "#46039f"
             ],
             [
              0.2222222222222222,
              "#7201a8"
             ],
             [
              0.3333333333333333,
              "#9c179e"
             ],
             [
              0.4444444444444444,
              "#bd3786"
             ],
             [
              0.5555555555555556,
              "#d8576b"
             ],
             [
              0.6666666666666666,
              "#ed7953"
             ],
             [
              0.7777777777777778,
              "#fb9f3a"
             ],
             [
              0.8888888888888888,
              "#fdca26"
             ],
             [
              1,
              "#f0f921"
             ]
            ],
            "type": "contour"
           }
          ],
          "contourcarpet": [
           {
            "colorbar": {
             "outlinewidth": 0,
             "ticks": ""
            },
            "type": "contourcarpet"
           }
          ],
          "heatmap": [
           {
            "colorbar": {
             "outlinewidth": 0,
             "ticks": ""
            },
            "colorscale": [
             [
              0,
              "#0d0887"
             ],
             [
              0.1111111111111111,
              "#46039f"
             ],
             [
              0.2222222222222222,
              "#7201a8"
             ],
             [
              0.3333333333333333,
              "#9c179e"
             ],
             [
              0.4444444444444444,
              "#bd3786"
             ],
             [
              0.5555555555555556,
              "#d8576b"
             ],
             [
              0.6666666666666666,
              "#ed7953"
             ],
             [
              0.7777777777777778,
              "#fb9f3a"
             ],
             [
              0.8888888888888888,
              "#fdca26"
             ],
             [
              1,
              "#f0f921"
             ]
            ],
            "type": "heatmap"
           }
          ],
          "heatmapgl": [
           {
            "colorbar": {
             "outlinewidth": 0,
             "ticks": ""
            },
            "colorscale": [
             [
              0,
              "#0d0887"
             ],
             [
              0.1111111111111111,
              "#46039f"
             ],
             [
              0.2222222222222222,
              "#7201a8"
             ],
             [
              0.3333333333333333,
              "#9c179e"
             ],
             [
              0.4444444444444444,
              "#bd3786"
             ],
             [
              0.5555555555555556,
              "#d8576b"
             ],
             [
              0.6666666666666666,
              "#ed7953"
             ],
             [
              0.7777777777777778,
              "#fb9f3a"
             ],
             [
              0.8888888888888888,
              "#fdca26"
             ],
             [
              1,
              "#f0f921"
             ]
            ],
            "type": "heatmapgl"
           }
          ],
          "histogram": [
           {
            "marker": {
             "pattern": {
              "fillmode": "overlay",
              "size": 10,
              "solidity": 0.2
             }
            },
            "type": "histogram"
           }
          ],
          "histogram2d": [
           {
            "colorbar": {
             "outlinewidth": 0,
             "ticks": ""
            },
            "colorscale": [
             [
              0,
              "#0d0887"
             ],
             [
              0.1111111111111111,
              "#46039f"
             ],
             [
              0.2222222222222222,
              "#7201a8"
             ],
             [
              0.3333333333333333,
              "#9c179e"
             ],
             [
              0.4444444444444444,
              "#bd3786"
             ],
             [
              0.5555555555555556,
              "#d8576b"
             ],
             [
              0.6666666666666666,
              "#ed7953"
             ],
             [
              0.7777777777777778,
              "#fb9f3a"
             ],
             [
              0.8888888888888888,
              "#fdca26"
             ],
             [
              1,
              "#f0f921"
             ]
            ],
            "type": "histogram2d"
           }
          ],
          "histogram2dcontour": [
           {
            "colorbar": {
             "outlinewidth": 0,
             "ticks": ""
            },
            "colorscale": [
             [
              0,
              "#0d0887"
             ],
             [
              0.1111111111111111,
              "#46039f"
             ],
             [
              0.2222222222222222,
              "#7201a8"
             ],
             [
              0.3333333333333333,
              "#9c179e"
             ],
             [
              0.4444444444444444,
              "#bd3786"
             ],
             [
              0.5555555555555556,
              "#d8576b"
             ],
             [
              0.6666666666666666,
              "#ed7953"
             ],
             [
              0.7777777777777778,
              "#fb9f3a"
             ],
             [
              0.8888888888888888,
              "#fdca26"
             ],
             [
              1,
              "#f0f921"
             ]
            ],
            "type": "histogram2dcontour"
           }
          ],
          "mesh3d": [
           {
            "colorbar": {
             "outlinewidth": 0,
             "ticks": ""
            },
            "type": "mesh3d"
           }
          ],
          "parcoords": [
           {
            "line": {
             "colorbar": {
              "outlinewidth": 0,
              "ticks": ""
             }
            },
            "type": "parcoords"
           }
          ],
          "pie": [
           {
            "automargin": true,
            "type": "pie"
           }
          ],
          "scatter": [
           {
            "fillpattern": {
             "fillmode": "overlay",
             "size": 10,
             "solidity": 0.2
            },
            "type": "scatter"
           }
          ],
          "scatter3d": [
           {
            "line": {
             "colorbar": {
              "outlinewidth": 0,
              "ticks": ""
             }
            },
            "marker": {
             "colorbar": {
              "outlinewidth": 0,
              "ticks": ""
             }
            },
            "type": "scatter3d"
           }
          ],
          "scattercarpet": [
           {
            "marker": {
             "colorbar": {
              "outlinewidth": 0,
              "ticks": ""
             }
            },
            "type": "scattercarpet"
           }
          ],
          "scattergeo": [
           {
            "marker": {
             "colorbar": {
              "outlinewidth": 0,
              "ticks": ""
             }
            },
            "type": "scattergeo"
           }
          ],
          "scattergl": [
           {
            "marker": {
             "colorbar": {
              "outlinewidth": 0,
              "ticks": ""
             }
            },
            "type": "scattergl"
           }
          ],
          "scattermapbox": [
           {
            "marker": {
             "colorbar": {
              "outlinewidth": 0,
              "ticks": ""
             }
            },
            "type": "scattermapbox"
           }
          ],
          "scatterpolar": [
           {
            "marker": {
             "colorbar": {
              "outlinewidth": 0,
              "ticks": ""
             }
            },
            "type": "scatterpolar"
           }
          ],
          "scatterpolargl": [
           {
            "marker": {
             "colorbar": {
              "outlinewidth": 0,
              "ticks": ""
             }
            },
            "type": "scatterpolargl"
           }
          ],
          "scatterternary": [
           {
            "marker": {
             "colorbar": {
              "outlinewidth": 0,
              "ticks": ""
             }
            },
            "type": "scatterternary"
           }
          ],
          "surface": [
           {
            "colorbar": {
             "outlinewidth": 0,
             "ticks": ""
            },
            "colorscale": [
             [
              0,
              "#0d0887"
             ],
             [
              0.1111111111111111,
              "#46039f"
             ],
             [
              0.2222222222222222,
              "#7201a8"
             ],
             [
              0.3333333333333333,
              "#9c179e"
             ],
             [
              0.4444444444444444,
              "#bd3786"
             ],
             [
              0.5555555555555556,
              "#d8576b"
             ],
             [
              0.6666666666666666,
              "#ed7953"
             ],
             [
              0.7777777777777778,
              "#fb9f3a"
             ],
             [
              0.8888888888888888,
              "#fdca26"
             ],
             [
              1,
              "#f0f921"
             ]
            ],
            "type": "surface"
           }
          ],
          "table": [
           {
            "cells": {
             "fill": {
              "color": "#EBF0F8"
             },
             "line": {
              "color": "white"
             }
            },
            "header": {
             "fill": {
              "color": "#C8D4E3"
             },
             "line": {
              "color": "white"
             }
            },
            "type": "table"
           }
          ]
         },
         "layout": {
          "annotationdefaults": {
           "arrowcolor": "#2a3f5f",
           "arrowhead": 0,
           "arrowwidth": 1
          },
          "autotypenumbers": "strict",
          "coloraxis": {
           "colorbar": {
            "outlinewidth": 0,
            "ticks": ""
           }
          },
          "colorscale": {
           "diverging": [
            [
             0,
             "#8e0152"
            ],
            [
             0.1,
             "#c51b7d"
            ],
            [
             0.2,
             "#de77ae"
            ],
            [
             0.3,
             "#f1b6da"
            ],
            [
             0.4,
             "#fde0ef"
            ],
            [
             0.5,
             "#f7f7f7"
            ],
            [
             0.6,
             "#e6f5d0"
            ],
            [
             0.7,
             "#b8e186"
            ],
            [
             0.8,
             "#7fbc41"
            ],
            [
             0.9,
             "#4d9221"
            ],
            [
             1,
             "#276419"
            ]
           ],
           "sequential": [
            [
             0,
             "#0d0887"
            ],
            [
             0.1111111111111111,
             "#46039f"
            ],
            [
             0.2222222222222222,
             "#7201a8"
            ],
            [
             0.3333333333333333,
             "#9c179e"
            ],
            [
             0.4444444444444444,
             "#bd3786"
            ],
            [
             0.5555555555555556,
             "#d8576b"
            ],
            [
             0.6666666666666666,
             "#ed7953"
            ],
            [
             0.7777777777777778,
             "#fb9f3a"
            ],
            [
             0.8888888888888888,
             "#fdca26"
            ],
            [
             1,
             "#f0f921"
            ]
           ],
           "sequentialminus": [
            [
             0,
             "#0d0887"
            ],
            [
             0.1111111111111111,
             "#46039f"
            ],
            [
             0.2222222222222222,
             "#7201a8"
            ],
            [
             0.3333333333333333,
             "#9c179e"
            ],
            [
             0.4444444444444444,
             "#bd3786"
            ],
            [
             0.5555555555555556,
             "#d8576b"
            ],
            [
             0.6666666666666666,
             "#ed7953"
            ],
            [
             0.7777777777777778,
             "#fb9f3a"
            ],
            [
             0.8888888888888888,
             "#fdca26"
            ],
            [
             1,
             "#f0f921"
            ]
           ]
          },
          "colorway": [
           "#636efa",
           "#EF553B",
           "#00cc96",
           "#ab63fa",
           "#FFA15A",
           "#19d3f3",
           "#FF6692",
           "#B6E880",
           "#FF97FF",
           "#FECB52"
          ],
          "font": {
           "color": "#2a3f5f"
          },
          "geo": {
           "bgcolor": "white",
           "lakecolor": "white",
           "landcolor": "#E5ECF6",
           "showlakes": true,
           "showland": true,
           "subunitcolor": "white"
          },
          "hoverlabel": {
           "align": "left"
          },
          "hovermode": "closest",
          "mapbox": {
           "style": "light"
          },
          "paper_bgcolor": "white",
          "plot_bgcolor": "#E5ECF6",
          "polar": {
           "angularaxis": {
            "gridcolor": "white",
            "linecolor": "white",
            "ticks": ""
           },
           "bgcolor": "#E5ECF6",
           "radialaxis": {
            "gridcolor": "white",
            "linecolor": "white",
            "ticks": ""
           }
          },
          "scene": {
           "xaxis": {
            "backgroundcolor": "#E5ECF6",
            "gridcolor": "white",
            "gridwidth": 2,
            "linecolor": "white",
            "showbackground": true,
            "ticks": "",
            "zerolinecolor": "white"
           },
           "yaxis": {
            "backgroundcolor": "#E5ECF6",
            "gridcolor": "white",
            "gridwidth": 2,
            "linecolor": "white",
            "showbackground": true,
            "ticks": "",
            "zerolinecolor": "white"
           },
           "zaxis": {
            "backgroundcolor": "#E5ECF6",
            "gridcolor": "white",
            "gridwidth": 2,
            "linecolor": "white",
            "showbackground": true,
            "ticks": "",
            "zerolinecolor": "white"
           }
          },
          "shapedefaults": {
           "line": {
            "color": "#2a3f5f"
           }
          },
          "ternary": {
           "aaxis": {
            "gridcolor": "white",
            "linecolor": "white",
            "ticks": ""
           },
           "baxis": {
            "gridcolor": "white",
            "linecolor": "white",
            "ticks": ""
           },
           "bgcolor": "#E5ECF6",
           "caxis": {
            "gridcolor": "white",
            "linecolor": "white",
            "ticks": ""
           }
          },
          "title": {
           "x": 0.05
          },
          "xaxis": {
           "automargin": true,
           "gridcolor": "white",
           "linecolor": "white",
           "ticks": "",
           "title": {
            "standoff": 15
           },
           "zerolinecolor": "white",
           "zerolinewidth": 2
          },
          "yaxis": {
           "automargin": true,
           "gridcolor": "white",
           "linecolor": "white",
           "ticks": "",
           "title": {
            "standoff": 15
           },
           "zerolinecolor": "white",
           "zerolinewidth": 2
          }
         }
        },
        "title": {
         "text": "Previsão de Cancelamentos Futuros"
        },
        "xaxis": {
         "anchor": "y",
         "domain": [
          0,
          1
         ],
         "title": {
          "text": "Month"
         }
        },
        "yaxis": {
         "anchor": "x",
         "domain": [
          0,
          1
         ],
         "title": {
          "text": "Predicted_Churns"
         }
        }
       }
      }
     },
     "metadata": {},
     "output_type": "display_data"
    }
   ],
   "source": [
    "#Tranformando 'Monthly_Churn_Rate' para tipo numérico\n",
    "df_pred['Monthly_Churn_Rate'] = pd.to_numeric(df_pred['Monthly_Churn_Rate'], errors='coerce')\n",
    "\n",
    "#Simulando o churn nos próximos meses\n",
    "months = list(range(1, 7))\n",
    "predicted_churns = []\n",
    "\n",
    "for month in months:\n",
    "    churned = (df_pred['Monthly_Churn_Rate'] * (1 - df_pred['Monthly_Churn_Rate'])**(month-1)).sum()\n",
    "    predicted_churns.append(churned)\n",
    "\n",
    "#DataFrame com a previsão\n",
    "forecast_df = pd.DataFrame({\n",
    "    'Month': months,\n",
    "    'Predicted_Churns': predicted_churns\n",
    "})\n",
    "\n",
    "#Criando o Gráfico\n",
    "import plotly.express as px\n",
    "fig = px.line(forecast_df, x='Month', y='Predicted_Churns', markers=True, title='Previsão de Cancelamentos Futuros')\n",
    "fig.show()"
   ]
  },
  {
   "cell_type": "markdown",
   "id": "ed3edba8",
   "metadata": {},
   "source": [
    "#### Importância das Features do Modelo"
   ]
  },
  {
   "cell_type": "code",
   "execution_count": 9,
   "id": "0215f0e4",
   "metadata": {},
   "outputs": [
    {
     "name": "stdout",
     "output_type": "stream",
     "text": [
      "Top 10 Features Mais Importantes:\n",
      "                           Feature  Importance\n",
      "9      InternetService_Fiber optic    0.481770\n",
      "18               Contract_Two year    0.157848\n",
      "17               Contract_One year    0.086992\n",
      "10              InternetService_No    0.054861\n",
      "0                           tenure    0.021353\n",
      "16             StreamingMovies_Yes    0.020876\n",
      "21  PaymentMethod_Electronic check    0.014568\n",
      "19            PaperlessBilling_Yes    0.014124\n",
      "8                MultipleLines_Yes    0.013850\n",
      "14                 TechSupport_Yes    0.011479\n"
     ]
    },
    {
     "data": {
      "image/png": "[encoded data removed]",
      "text/plain": [
       "<Figure size 1000x600 with 1 Axes>"
      ]
     },
     "metadata": {},
     "output_type": "display_data"
    }
   ],
   "source": [
    "#Importância das features do modelo XGBoost\n",
    "importances = model.feature_importances_\n",
    "feature_names = X_train.columns\n",
    "\n",
    "#Criando o DataFrame\n",
    "features_df = pd.DataFrame({'Feature': feature_names, 'Importance': importances})\n",
    "features_df = features_df.sort_values(by='Importance', ascending=False)\n",
    "\n",
    "#Mostrando top 10 features no gráfico\n",
    "print(\"Top 10 Features Mais Importantes:\")\n",
    "print(features_df.head(10))\n",
    "\n",
    "#Criando o gráfico de barras\n",
    "plt.figure(figsize=(10,6))\n",
    "sns.barplot(x='Importance', y='Feature', data=features_df.head(10))\n",
    "plt.title('Top 10 Features Mais Importantes')\n",
    "plt.tight_layout()\n",
    "plt.show()"
   ]
  },
  {
   "cell_type": "code",
   "execution_count": null,
   "id": "c4690cb9",
   "metadata": {},
   "outputs": [],
   "source": []
  }
 ],
 "metadata": {
  "kernelspec": {
   "display_name": "Python 3",
   "language": "python",
   "name": "python3"
  },
  "language_info": {
   "codemirror_mode": {
    "name": "ipython",
    "version": 3
   },
   "file_extension": ".py",
   "mimetype": "text/x-python",
   "name": "python",
   "nbconvert_exporter": "python",
   "pygments_lexer": "ipython3",
   "version": "3.12.3"
  }
 },
 "nbformat": 4,
 "nbformat_minor": 5
}
